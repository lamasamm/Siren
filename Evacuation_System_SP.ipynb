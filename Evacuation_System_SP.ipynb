{
 "cells": [
  {
   "cell_type": "markdown",
   "metadata": {},
   "source": [
    "# Fire Evacuation System AI models"
   ]
  },
  {
   "cell_type": "markdown",
   "metadata": {},
   "source": [
    "#### Raghad Bugshan, Lama, Asrar, Supervised by Dr.Asma cherif"
   ]
  },
  {
   "cell_type": "markdown",
   "metadata": {},
   "source": [
    "## first : Import the required libraries"
   ]
  },
  {
   "cell_type": "code",
   "execution_count": 1,
   "metadata": {},
   "outputs": [],
   "source": [
    "import numpy as np\n",
    "import pandas as pd\n",
    "import matplotlib.pyplot as plt\n",
    "import seaborn as sns\n",
    "%matplotlib inline \n",
    "import tensorflow as tf\n",
    "from sklearn.model_selection import train_test_split\n",
    "from sklearn.metrics import mean_squared_error\n",
    "from sklearn.model_selection import TimeSeriesSplit\n",
    "from sklearn.datasets import load_iris\n",
    "import matplotlib.pyplot as plt\n",
    "from sklearn.neural_network import MLPClassifier\n",
    "import seaborn as sns\n",
    "from random import seed\n",
    "from random import random\n",
    "from random import randint\n",
    "from firebase import firebase\n",
    "import pickle\n",
    "\n"
   ]
  },
  {
   "cell_type": "markdown",
   "metadata": {},
   "source": [
    "## second: read the dataset"
   ]
  },
  {
   "cell_type": "code",
   "execution_count": 2,
   "metadata": {},
   "outputs": [],
   "source": [
    "data=pd.read_csv('D:/DataSet/FINAL_DATASET_ed.csv')"
   ]
  },
  {
   "cell_type": "markdown",
   "metadata": {},
   "source": [
    "### display the first rows of the dataset"
   ]
  },
  {
   "cell_type": "code",
   "execution_count": 291,
   "metadata": {},
   "outputs": [
    {
     "data": {
      "text/html": [
       "<div>\n",
       "<style scoped>\n",
       "    .dataframe tbody tr th:only-of-type {\n",
       "        vertical-align: middle;\n",
       "    }\n",
       "\n",
       "    .dataframe tbody tr th {\n",
       "        vertical-align: top;\n",
       "    }\n",
       "\n",
       "    .dataframe thead th {\n",
       "        text-align: right;\n",
       "    }\n",
       "</style>\n",
       "<table border=\"1\" class=\"dataframe\">\n",
       "  <thead>\n",
       "    <tr style=\"text-align: right;\">\n",
       "      <th></th>\n",
       "      <th>Physical Disability</th>\n",
       "      <th>Respiratory Disease</th>\n",
       "      <th>Fire Growth Rate</th>\n",
       "      <th>Temperature</th>\n",
       "      <th>Carbon monoxide concentration\\n</th>\n",
       "      <th>Carbon Dioxide concentration</th>\n",
       "      <th>Population</th>\n",
       "      <th>Link Length</th>\n",
       "      <th>Familiarity with Building Geometry</th>\n",
       "      <th>Joint -Muscle Disease</th>\n",
       "      <th>Body Type</th>\n",
       "      <th>Age</th>\n",
       "      <th>Heart Disease</th>\n",
       "      <th>Sex</th>\n",
       "      <th>Total Risk</th>\n",
       "    </tr>\n",
       "  </thead>\n",
       "  <tbody>\n",
       "    <tr>\n",
       "      <th>0</th>\n",
       "      <td>2</td>\n",
       "      <td>1</td>\n",
       "      <td>5</td>\n",
       "      <td>3</td>\n",
       "      <td>4</td>\n",
       "      <td>1</td>\n",
       "      <td>1</td>\n",
       "      <td>3</td>\n",
       "      <td>2</td>\n",
       "      <td>2</td>\n",
       "      <td>1</td>\n",
       "      <td>2</td>\n",
       "      <td>2</td>\n",
       "      <td>2</td>\n",
       "      <td>4</td>\n",
       "    </tr>\n",
       "    <tr>\n",
       "      <th>1</th>\n",
       "      <td>2</td>\n",
       "      <td>1</td>\n",
       "      <td>1</td>\n",
       "      <td>2</td>\n",
       "      <td>4</td>\n",
       "      <td>1</td>\n",
       "      <td>2</td>\n",
       "      <td>1</td>\n",
       "      <td>2</td>\n",
       "      <td>2</td>\n",
       "      <td>1</td>\n",
       "      <td>2</td>\n",
       "      <td>1</td>\n",
       "      <td>1</td>\n",
       "      <td>2</td>\n",
       "    </tr>\n",
       "    <tr>\n",
       "      <th>2</th>\n",
       "      <td>2</td>\n",
       "      <td>2</td>\n",
       "      <td>4</td>\n",
       "      <td>3</td>\n",
       "      <td>5</td>\n",
       "      <td>2</td>\n",
       "      <td>2</td>\n",
       "      <td>3</td>\n",
       "      <td>2</td>\n",
       "      <td>1</td>\n",
       "      <td>2</td>\n",
       "      <td>3</td>\n",
       "      <td>1</td>\n",
       "      <td>1</td>\n",
       "      <td>5</td>\n",
       "    </tr>\n",
       "    <tr>\n",
       "      <th>3</th>\n",
       "      <td>2</td>\n",
       "      <td>1</td>\n",
       "      <td>2</td>\n",
       "      <td>1</td>\n",
       "      <td>3</td>\n",
       "      <td>1</td>\n",
       "      <td>4</td>\n",
       "      <td>2</td>\n",
       "      <td>2</td>\n",
       "      <td>2</td>\n",
       "      <td>3</td>\n",
       "      <td>1</td>\n",
       "      <td>1</td>\n",
       "      <td>1</td>\n",
       "      <td>2</td>\n",
       "    </tr>\n",
       "    <tr>\n",
       "      <th>4</th>\n",
       "      <td>1</td>\n",
       "      <td>2</td>\n",
       "      <td>3</td>\n",
       "      <td>1</td>\n",
       "      <td>1</td>\n",
       "      <td>2</td>\n",
       "      <td>2</td>\n",
       "      <td>3</td>\n",
       "      <td>1</td>\n",
       "      <td>2</td>\n",
       "      <td>2</td>\n",
       "      <td>2</td>\n",
       "      <td>1</td>\n",
       "      <td>1</td>\n",
       "      <td>2</td>\n",
       "    </tr>\n",
       "  </tbody>\n",
       "</table>\n",
       "</div>"
      ],
      "text/plain": [
       "   Physical Disability  Respiratory Disease  Fire Growth Rate  Temperature  \\\n",
       "0                    2                    1                 5            3   \n",
       "1                    2                    1                 1            2   \n",
       "2                    2                    2                 4            3   \n",
       "3                    2                    1                 2            1   \n",
       "4                    1                    2                 3            1   \n",
       "\n",
       "   Carbon monoxide concentration\\n  Carbon Dioxide concentration   Population  \\\n",
       "0                                4                              1           1   \n",
       "1                                4                              1           2   \n",
       "2                                5                              2           2   \n",
       "3                                3                              1           4   \n",
       "4                                1                              2           2   \n",
       "\n",
       "   Link Length  Familiarity with Building Geometry  Joint -Muscle Disease   \\\n",
       "0            3                                   2                       2   \n",
       "1            1                                   2                       2   \n",
       "2            3                                   2                       1   \n",
       "3            2                                   2                       2   \n",
       "4            3                                   1                       2   \n",
       "\n",
       "   Body Type  Age      Heart Disease      Sex   Total Risk  \n",
       "0          1        2                  2     2           4  \n",
       "1          1        2                  1     1           2  \n",
       "2          2        3                  1     1           5  \n",
       "3          3        1                  1     1           2  \n",
       "4          2        2                  1     1           2  "
      ]
     },
     "execution_count": 291,
     "metadata": {},
     "output_type": "execute_result"
    }
   ],
   "source": [
    "data.head()"
   ]
  },
  {
   "cell_type": "markdown",
   "metadata": {},
   "source": [
    "### measuring data to see average data distribution"
   ]
  },
  {
   "cell_type": "markdown",
   "metadata": {},
   "source": [
    "#### describe the main dataset\n"
   ]
  },
  {
   "cell_type": "code",
   "execution_count": 292,
   "metadata": {},
   "outputs": [
    {
     "name": "stdout",
     "output_type": "stream",
     "text": [
      "1\n",
      "5\n",
      "2.974524872624363\n"
     ]
    }
   ],
   "source": [
    "print(data[\"Total Risk\"].min())\n",
    "\n",
    "print(data[\"Total Risk\"].max())\n",
    "\n",
    "print(data[\"Total Risk\"].mean())"
   ]
  },
  {
   "cell_type": "code",
   "execution_count": 473,
   "metadata": {},
   "outputs": [
    {
     "data": {
      "text/html": [
       "<div>\n",
       "<style scoped>\n",
       "    .dataframe tbody tr th:only-of-type {\n",
       "        vertical-align: middle;\n",
       "    }\n",
       "\n",
       "    .dataframe tbody tr th {\n",
       "        vertical-align: top;\n",
       "    }\n",
       "\n",
       "    .dataframe thead th {\n",
       "        text-align: right;\n",
       "    }\n",
       "</style>\n",
       "<table border=\"1\" class=\"dataframe\">\n",
       "  <thead>\n",
       "    <tr style=\"text-align: right;\">\n",
       "      <th></th>\n",
       "      <th>Physical Disability</th>\n",
       "      <th>Respiratory Disease</th>\n",
       "      <th>Fire Growth Rate</th>\n",
       "      <th>Temperature</th>\n",
       "      <th>Carbon monoxide concentration\\n</th>\n",
       "      <th>Carbon Dioxide concentration</th>\n",
       "      <th>Population</th>\n",
       "      <th>Link Length</th>\n",
       "      <th>Familiarity with Building Geometry</th>\n",
       "      <th>Joint -Muscle Disease</th>\n",
       "      <th>Body Type</th>\n",
       "      <th>Age</th>\n",
       "      <th>Heart Disease</th>\n",
       "      <th>Sex</th>\n",
       "      <th>Total Risk</th>\n",
       "    </tr>\n",
       "  </thead>\n",
       "  <tbody>\n",
       "    <tr>\n",
       "      <th>count</th>\n",
       "      <td>199999.000000</td>\n",
       "      <td>199999.000000</td>\n",
       "      <td>199999.000000</td>\n",
       "      <td>199999.000000</td>\n",
       "      <td>199999.000000</td>\n",
       "      <td>199999.000000</td>\n",
       "      <td>199999.000000</td>\n",
       "      <td>199999.000000</td>\n",
       "      <td>199999.000000</td>\n",
       "      <td>199999.000000</td>\n",
       "      <td>199999.000000</td>\n",
       "      <td>199999.00000</td>\n",
       "      <td>199999.000000</td>\n",
       "      <td>199999.000000</td>\n",
       "      <td>199999.000000</td>\n",
       "    </tr>\n",
       "    <tr>\n",
       "      <th>mean</th>\n",
       "      <td>1.499002</td>\n",
       "      <td>1.500063</td>\n",
       "      <td>3.002435</td>\n",
       "      <td>2.497532</td>\n",
       "      <td>2.999140</td>\n",
       "      <td>1.996890</td>\n",
       "      <td>2.503528</td>\n",
       "      <td>1.998720</td>\n",
       "      <td>1.499532</td>\n",
       "      <td>1.498917</td>\n",
       "      <td>2.001475</td>\n",
       "      <td>1.99894</td>\n",
       "      <td>1.497152</td>\n",
       "      <td>1.500553</td>\n",
       "      <td>2.974525</td>\n",
       "    </tr>\n",
       "    <tr>\n",
       "      <th>std</th>\n",
       "      <td>0.500000</td>\n",
       "      <td>0.500001</td>\n",
       "      <td>1.415630</td>\n",
       "      <td>1.117822</td>\n",
       "      <td>1.415108</td>\n",
       "      <td>0.816172</td>\n",
       "      <td>1.116189</td>\n",
       "      <td>0.816894</td>\n",
       "      <td>0.500001</td>\n",
       "      <td>0.500000</td>\n",
       "      <td>0.816480</td>\n",
       "      <td>0.81660</td>\n",
       "      <td>0.499993</td>\n",
       "      <td>0.500001</td>\n",
       "      <td>0.925513</td>\n",
       "    </tr>\n",
       "    <tr>\n",
       "      <th>min</th>\n",
       "      <td>1.000000</td>\n",
       "      <td>1.000000</td>\n",
       "      <td>1.000000</td>\n",
       "      <td>1.000000</td>\n",
       "      <td>1.000000</td>\n",
       "      <td>1.000000</td>\n",
       "      <td>1.000000</td>\n",
       "      <td>1.000000</td>\n",
       "      <td>1.000000</td>\n",
       "      <td>1.000000</td>\n",
       "      <td>1.000000</td>\n",
       "      <td>1.00000</td>\n",
       "      <td>1.000000</td>\n",
       "      <td>1.000000</td>\n",
       "      <td>1.000000</td>\n",
       "    </tr>\n",
       "    <tr>\n",
       "      <th>25%</th>\n",
       "      <td>1.000000</td>\n",
       "      <td>1.000000</td>\n",
       "      <td>2.000000</td>\n",
       "      <td>1.000000</td>\n",
       "      <td>2.000000</td>\n",
       "      <td>1.000000</td>\n",
       "      <td>2.000000</td>\n",
       "      <td>1.000000</td>\n",
       "      <td>1.000000</td>\n",
       "      <td>1.000000</td>\n",
       "      <td>1.000000</td>\n",
       "      <td>1.00000</td>\n",
       "      <td>1.000000</td>\n",
       "      <td>1.000000</td>\n",
       "      <td>2.000000</td>\n",
       "    </tr>\n",
       "    <tr>\n",
       "      <th>50%</th>\n",
       "      <td>1.000000</td>\n",
       "      <td>2.000000</td>\n",
       "      <td>3.000000</td>\n",
       "      <td>2.000000</td>\n",
       "      <td>3.000000</td>\n",
       "      <td>2.000000</td>\n",
       "      <td>3.000000</td>\n",
       "      <td>2.000000</td>\n",
       "      <td>1.000000</td>\n",
       "      <td>1.000000</td>\n",
       "      <td>2.000000</td>\n",
       "      <td>2.00000</td>\n",
       "      <td>1.000000</td>\n",
       "      <td>2.000000</td>\n",
       "      <td>3.000000</td>\n",
       "    </tr>\n",
       "    <tr>\n",
       "      <th>75%</th>\n",
       "      <td>2.000000</td>\n",
       "      <td>2.000000</td>\n",
       "      <td>4.000000</td>\n",
       "      <td>3.000000</td>\n",
       "      <td>4.000000</td>\n",
       "      <td>3.000000</td>\n",
       "      <td>4.000000</td>\n",
       "      <td>3.000000</td>\n",
       "      <td>2.000000</td>\n",
       "      <td>2.000000</td>\n",
       "      <td>3.000000</td>\n",
       "      <td>3.00000</td>\n",
       "      <td>2.000000</td>\n",
       "      <td>2.000000</td>\n",
       "      <td>4.000000</td>\n",
       "    </tr>\n",
       "    <tr>\n",
       "      <th>max</th>\n",
       "      <td>2.000000</td>\n",
       "      <td>2.000000</td>\n",
       "      <td>5.000000</td>\n",
       "      <td>4.000000</td>\n",
       "      <td>5.000000</td>\n",
       "      <td>3.000000</td>\n",
       "      <td>4.000000</td>\n",
       "      <td>3.000000</td>\n",
       "      <td>2.000000</td>\n",
       "      <td>2.000000</td>\n",
       "      <td>3.000000</td>\n",
       "      <td>3.00000</td>\n",
       "      <td>2.000000</td>\n",
       "      <td>2.000000</td>\n",
       "      <td>5.000000</td>\n",
       "    </tr>\n",
       "  </tbody>\n",
       "</table>\n",
       "</div>"
      ],
      "text/plain": [
       "       Physical Disability  Respiratory Disease  Fire Growth Rate  \\\n",
       "count        199999.000000        199999.000000     199999.000000   \n",
       "mean              1.499002             1.500063          3.002435   \n",
       "std               0.500000             0.500001          1.415630   \n",
       "min               1.000000             1.000000          1.000000   \n",
       "25%               1.000000             1.000000          2.000000   \n",
       "50%               1.000000             2.000000          3.000000   \n",
       "75%               2.000000             2.000000          4.000000   \n",
       "max               2.000000             2.000000          5.000000   \n",
       "\n",
       "         Temperature  Carbon monoxide concentration\\n  \\\n",
       "count  199999.000000                    199999.000000   \n",
       "mean        2.497532                         2.999140   \n",
       "std         1.117822                         1.415108   \n",
       "min         1.000000                         1.000000   \n",
       "25%         1.000000                         2.000000   \n",
       "50%         2.000000                         3.000000   \n",
       "75%         3.000000                         4.000000   \n",
       "max         4.000000                         5.000000   \n",
       "\n",
       "       Carbon Dioxide concentration      Population    Link Length  \\\n",
       "count                  199999.000000  199999.000000  199999.000000   \n",
       "mean                        1.996890       2.503528       1.998720   \n",
       "std                         0.816172       1.116189       0.816894   \n",
       "min                         1.000000       1.000000       1.000000   \n",
       "25%                         1.000000       2.000000       1.000000   \n",
       "50%                         2.000000       3.000000       2.000000   \n",
       "75%                         3.000000       4.000000       3.000000   \n",
       "max                         3.000000       4.000000       3.000000   \n",
       "\n",
       "       Familiarity with Building Geometry  Joint -Muscle Disease   \\\n",
       "count                       199999.000000           199999.000000   \n",
       "mean                             1.499532                1.498917   \n",
       "std                              0.500001                0.500000   \n",
       "min                              1.000000                1.000000   \n",
       "25%                              1.000000                1.000000   \n",
       "50%                              1.000000                1.000000   \n",
       "75%                              2.000000                2.000000   \n",
       "max                              2.000000                2.000000   \n",
       "\n",
       "           Body Type       Age      Heart Disease               Sex   \\\n",
       "count  199999.000000  199999.00000      199999.000000  199999.000000   \n",
       "mean        2.001475       1.99894           1.497152       1.500553   \n",
       "std         0.816480       0.81660           0.499993       0.500001   \n",
       "min         1.000000       1.00000           1.000000       1.000000   \n",
       "25%         1.000000       1.00000           1.000000       1.000000   \n",
       "50%         2.000000       2.00000           1.000000       2.000000   \n",
       "75%         3.000000       3.00000           2.000000       2.000000   \n",
       "max         3.000000       3.00000           2.000000       2.000000   \n",
       "\n",
       "          Total Risk  \n",
       "count  199999.000000  \n",
       "mean        2.974525  \n",
       "std         0.925513  \n",
       "min         1.000000  \n",
       "25%         2.000000  \n",
       "50%         3.000000  \n",
       "75%         4.000000  \n",
       "max         5.000000  "
      ]
     },
     "execution_count": 473,
     "metadata": {},
     "output_type": "execute_result"
    }
   ],
   "source": [
    "data.describe()"
   ]
  },
  {
   "cell_type": "markdown",
   "metadata": {},
   "source": [
    "### graph the distribution of the risk level in the main dataset\n"
   ]
  },
  {
   "cell_type": "code",
   "execution_count": 5,
   "metadata": {},
   "outputs": [
    {
     "name": "stdout",
     "output_type": "stream",
     "text": [
      "count    199999.000000\n",
      "mean          2.974525\n",
      "std           0.925513\n",
      "min           1.000000\n",
      "25%           2.000000\n",
      "50%           3.000000\n",
      "75%           4.000000\n",
      "max           5.000000\n",
      "Name: Total Risk, dtype: float64\n"
     ]
    },
    {
     "data": {
      "text/html": [
       "<div>\n",
       "<style scoped>\n",
       "    .dataframe tbody tr th:only-of-type {\n",
       "        vertical-align: middle;\n",
       "    }\n",
       "\n",
       "    .dataframe tbody tr th {\n",
       "        vertical-align: top;\n",
       "    }\n",
       "\n",
       "    .dataframe thead th {\n",
       "        text-align: right;\n",
       "    }\n",
       "</style>\n",
       "<table border=\"1\" class=\"dataframe\">\n",
       "  <thead>\n",
       "    <tr style=\"text-align: right;\">\n",
       "      <th></th>\n",
       "      <th>Physical Disability</th>\n",
       "      <th>Respiratory Disease</th>\n",
       "      <th>Fire Growth Rate</th>\n",
       "      <th>Temperature</th>\n",
       "      <th>Carbon monoxide concentration\\n</th>\n",
       "      <th>Carbon Dioxide concentration</th>\n",
       "      <th>Population</th>\n",
       "      <th>Link Length</th>\n",
       "      <th>Familiarity with Building Geometry</th>\n",
       "      <th>Joint -Muscle Disease</th>\n",
       "      <th>Body Type</th>\n",
       "      <th>Age</th>\n",
       "      <th>Heart Disease</th>\n",
       "      <th>Sex</th>\n",
       "      <th>Total Risk</th>\n",
       "    </tr>\n",
       "  </thead>\n",
       "  <tbody>\n",
       "    <tr>\n",
       "      <th>0</th>\n",
       "      <td>2</td>\n",
       "      <td>1</td>\n",
       "      <td>5</td>\n",
       "      <td>3</td>\n",
       "      <td>4</td>\n",
       "      <td>1</td>\n",
       "      <td>1</td>\n",
       "      <td>3</td>\n",
       "      <td>2</td>\n",
       "      <td>2</td>\n",
       "      <td>1</td>\n",
       "      <td>2</td>\n",
       "      <td>2</td>\n",
       "      <td>2</td>\n",
       "      <td>4</td>\n",
       "    </tr>\n",
       "    <tr>\n",
       "      <th>1</th>\n",
       "      <td>2</td>\n",
       "      <td>1</td>\n",
       "      <td>1</td>\n",
       "      <td>2</td>\n",
       "      <td>4</td>\n",
       "      <td>1</td>\n",
       "      <td>2</td>\n",
       "      <td>1</td>\n",
       "      <td>2</td>\n",
       "      <td>2</td>\n",
       "      <td>1</td>\n",
       "      <td>2</td>\n",
       "      <td>1</td>\n",
       "      <td>1</td>\n",
       "      <td>2</td>\n",
       "    </tr>\n",
       "    <tr>\n",
       "      <th>2</th>\n",
       "      <td>2</td>\n",
       "      <td>2</td>\n",
       "      <td>4</td>\n",
       "      <td>3</td>\n",
       "      <td>5</td>\n",
       "      <td>2</td>\n",
       "      <td>2</td>\n",
       "      <td>3</td>\n",
       "      <td>2</td>\n",
       "      <td>1</td>\n",
       "      <td>2</td>\n",
       "      <td>3</td>\n",
       "      <td>1</td>\n",
       "      <td>1</td>\n",
       "      <td>5</td>\n",
       "    </tr>\n",
       "    <tr>\n",
       "      <th>3</th>\n",
       "      <td>2</td>\n",
       "      <td>1</td>\n",
       "      <td>2</td>\n",
       "      <td>1</td>\n",
       "      <td>3</td>\n",
       "      <td>1</td>\n",
       "      <td>4</td>\n",
       "      <td>2</td>\n",
       "      <td>2</td>\n",
       "      <td>2</td>\n",
       "      <td>3</td>\n",
       "      <td>1</td>\n",
       "      <td>1</td>\n",
       "      <td>1</td>\n",
       "      <td>2</td>\n",
       "    </tr>\n",
       "    <tr>\n",
       "      <th>4</th>\n",
       "      <td>1</td>\n",
       "      <td>2</td>\n",
       "      <td>3</td>\n",
       "      <td>1</td>\n",
       "      <td>1</td>\n",
       "      <td>2</td>\n",
       "      <td>2</td>\n",
       "      <td>3</td>\n",
       "      <td>1</td>\n",
       "      <td>2</td>\n",
       "      <td>2</td>\n",
       "      <td>2</td>\n",
       "      <td>1</td>\n",
       "      <td>1</td>\n",
       "      <td>2</td>\n",
       "    </tr>\n",
       "  </tbody>\n",
       "</table>\n",
       "</div>"
      ],
      "text/plain": [
       "   Physical Disability  Respiratory Disease  Fire Growth Rate  Temperature  \\\n",
       "0                    2                    1                 5            3   \n",
       "1                    2                    1                 1            2   \n",
       "2                    2                    2                 4            3   \n",
       "3                    2                    1                 2            1   \n",
       "4                    1                    2                 3            1   \n",
       "\n",
       "   Carbon monoxide concentration\\n  Carbon Dioxide concentration   Population  \\\n",
       "0                                4                              1           1   \n",
       "1                                4                              1           2   \n",
       "2                                5                              2           2   \n",
       "3                                3                              1           4   \n",
       "4                                1                              2           2   \n",
       "\n",
       "   Link Length  Familiarity with Building Geometry  Joint -Muscle Disease   \\\n",
       "0            3                                   2                       2   \n",
       "1            1                                   2                       2   \n",
       "2            3                                   2                       1   \n",
       "3            2                                   2                       2   \n",
       "4            3                                   1                       2   \n",
       "\n",
       "   Body Type  Age      Heart Disease      Sex   Total Risk  \n",
       "0          1        2                  2     2           4  \n",
       "1          1        2                  1     1           2  \n",
       "2          2        3                  1     1           5  \n",
       "3          3        1                  1     1           2  \n",
       "4          2        2                  1     1           2  "
      ]
     },
     "execution_count": 5,
     "metadata": {},
     "output_type": "execute_result"
    },
    {
     "data": {
      "image/png": "[encoded data removed]",
      "text/plain": [
       "<Figure size 648x576 with 1 Axes>"
      ]
     },
     "metadata": {
      "needs_background": "light"
     },
     "output_type": "display_data"
    }
   ],
   "source": [
    "print(data['Total Risk'].describe())\n",
    "plt.figure(figsize=(9, 8))\n",
    "sns.distplot(data['Total Risk'], color='g', bins=100, hist_kws={'alpha': 0.4});\n",
    "\n",
    "list(set(data.dtypes.tolist()))\n",
    "\n",
    "data_typ = data.select_dtypes(include = ['int64'])\n",
    "data_typ.head()"
   ]
  },
  {
   "cell_type": "markdown",
   "metadata": {},
   "source": [
    "#### the histogram and distribution of all the features\n"
   ]
  },
  {
   "cell_type": "code",
   "execution_count": 6,
   "metadata": {},
   "outputs": [
    {
     "data": {
      "image/png": "[encoded data removed]",
      "text/plain": [
       "<Figure size 1152x1440 with 16 Axes>"
      ]
     },
     "metadata": {
      "needs_background": "light"
     },
     "output_type": "display_data"
    }
   ],
   "source": [
    "data_typ.hist(figsize=(16, 20), bins=50, xlabelsize=8, ylabelsize=8);\n"
   ]
  },
  {
   "cell_type": "markdown",
   "metadata": {},
   "source": [
    "### find the best or the strongest features that highly impact the risk level"
   ]
  },
  {
   "cell_type": "code",
   "execution_count": 7,
   "metadata": {},
   "outputs": [
    {
     "name": "stdout",
     "output_type": "stream",
     "text": [
      "There is 2 strongly correlated values with Total Risk:\n",
      "Fire Growth Rate       0.589989\n",
      "Physical Disability    0.544562\n",
      "Name: Total Risk, dtype: float64\n"
     ]
    }
   ],
   "source": [
    "\n",
    "\n",
    "data_typ_corr = data_typ.corr()['Total Risk'][:-1] \n",
    "golden_features_list =data_typ_corr[abs(data_typ_corr) > 0.5].sort_values(ascending=False)\n",
    "print(\"There is {} strongly correlated values with Total Risk:\\n{}\".format(len(golden_features_list), golden_features_list))"
   ]
  },
  {
   "cell_type": "markdown",
   "metadata": {},
   "source": [
    "#### find the relation of each feature with the total risk \n"
   ]
  },
  {
   "cell_type": "code",
   "execution_count": 477,
   "metadata": {},
   "outputs": [
    {
     "data": {
      "image/png": "[encoded data removed]",
      "text/plain": [
       "<Figure size 900x180 with 5 Axes>"
      ]
     },
     "metadata": {
      "needs_background": "light"
     },
     "output_type": "display_data"
    },
    {
     "data": {
      "image/png": "[encoded data removed]",
      "text/plain": [
       "<Figure size 900x180 with 5 Axes>"
      ]
     },
     "metadata": {
      "needs_background": "light"
     },
     "output_type": "display_data"
    },
    {
     "data": {
      "image/png": "[encoded data removed]",
      "text/plain": [
       "<Figure size 900x180 with 5 Axes>"
      ]
     },
     "metadata": {
      "needs_background": "light"
     },
     "output_type": "display_data"
    }
   ],
   "source": [
    "\n",
    "\n",
    "\n",
    "for i in range(0, len(data_typ.columns), 5):\n",
    "    sns.pairplot(data=data_typ,\n",
    "                x_vars=data_typ.columns[i:i+5],\n",
    "                y_vars=['Total Risk'])"
   ]
  },
  {
   "cell_type": "markdown",
   "metadata": {},
   "source": [
    "### Dividing data into the  values columns ,and the column for the result, i.e. dividing what we want to expect with what makes us expect it"
   ]
  },
  {
   "cell_type": "code",
   "execution_count": 293,
   "metadata": {},
   "outputs": [
    {
     "name": "stdout",
     "output_type": "stream",
     "text": [
      "[[2 1 5 ... 2 2 2]\n",
      " [2 1 1 ... 2 1 1]\n",
      " [2 2 4 ... 3 1 1]\n",
      " ...\n",
      " [1 1 3 ... 1 1 1]\n",
      " [1 1 3 ... 1 1 1]\n",
      " [1 1 3 ... 3 1 1]]\n"
     ]
    }
   ],
   "source": [
    "DataTrain_X= data.iloc[:, :-1].values\n",
    "print(DataTrain_X)"
   ]
  },
  {
   "cell_type": "code",
   "execution_count": 294,
   "metadata": {},
   "outputs": [
    {
     "name": "stdout",
     "output_type": "stream",
     "text": [
      "[4 2 5 ... 2 2 3]\n"
     ]
    }
   ],
   "source": [
    "DataTrain_y = data.iloc[:, -1].values\n",
    "print(DataTrain_y)"
   ]
  },
  {
   "cell_type": "markdown",
   "metadata": {},
   "source": [
    "### display the last rows of the dataset"
   ]
  },
  {
   "cell_type": "code",
   "execution_count": 295,
   "metadata": {},
   "outputs": [
    {
     "data": {
      "text/html": [
       "<div>\n",
       "<style scoped>\n",
       "    .dataframe tbody tr th:only-of-type {\n",
       "        vertical-align: middle;\n",
       "    }\n",
       "\n",
       "    .dataframe tbody tr th {\n",
       "        vertical-align: top;\n",
       "    }\n",
       "\n",
       "    .dataframe thead th {\n",
       "        text-align: right;\n",
       "    }\n",
       "</style>\n",
       "<table border=\"1\" class=\"dataframe\">\n",
       "  <thead>\n",
       "    <tr style=\"text-align: right;\">\n",
       "      <th></th>\n",
       "      <th>Physical Disability</th>\n",
       "      <th>Respiratory Disease</th>\n",
       "      <th>Fire Growth Rate</th>\n",
       "      <th>Temperature</th>\n",
       "      <th>Carbon monoxide concentration\\n</th>\n",
       "      <th>Carbon Dioxide concentration</th>\n",
       "      <th>Population</th>\n",
       "      <th>Link Length</th>\n",
       "      <th>Familiarity with Building Geometry</th>\n",
       "      <th>Joint -Muscle Disease</th>\n",
       "      <th>Body Type</th>\n",
       "      <th>Age</th>\n",
       "      <th>Heart Disease</th>\n",
       "      <th>Sex</th>\n",
       "      <th>Total Risk</th>\n",
       "    </tr>\n",
       "  </thead>\n",
       "  <tbody>\n",
       "    <tr>\n",
       "      <th>199994</th>\n",
       "      <td>1</td>\n",
       "      <td>1</td>\n",
       "      <td>3</td>\n",
       "      <td>4</td>\n",
       "      <td>4</td>\n",
       "      <td>3</td>\n",
       "      <td>1</td>\n",
       "      <td>2</td>\n",
       "      <td>1</td>\n",
       "      <td>2</td>\n",
       "      <td>3</td>\n",
       "      <td>1</td>\n",
       "      <td>1</td>\n",
       "      <td>2</td>\n",
       "      <td>3</td>\n",
       "    </tr>\n",
       "    <tr>\n",
       "      <th>199995</th>\n",
       "      <td>2</td>\n",
       "      <td>2</td>\n",
       "      <td>2</td>\n",
       "      <td>4</td>\n",
       "      <td>2</td>\n",
       "      <td>2</td>\n",
       "      <td>1</td>\n",
       "      <td>1</td>\n",
       "      <td>1</td>\n",
       "      <td>2</td>\n",
       "      <td>3</td>\n",
       "      <td>1</td>\n",
       "      <td>2</td>\n",
       "      <td>1</td>\n",
       "      <td>3</td>\n",
       "    </tr>\n",
       "    <tr>\n",
       "      <th>199996</th>\n",
       "      <td>1</td>\n",
       "      <td>1</td>\n",
       "      <td>3</td>\n",
       "      <td>3</td>\n",
       "      <td>4</td>\n",
       "      <td>3</td>\n",
       "      <td>2</td>\n",
       "      <td>1</td>\n",
       "      <td>1</td>\n",
       "      <td>2</td>\n",
       "      <td>1</td>\n",
       "      <td>1</td>\n",
       "      <td>1</td>\n",
       "      <td>1</td>\n",
       "      <td>2</td>\n",
       "    </tr>\n",
       "    <tr>\n",
       "      <th>199997</th>\n",
       "      <td>1</td>\n",
       "      <td>1</td>\n",
       "      <td>3</td>\n",
       "      <td>4</td>\n",
       "      <td>1</td>\n",
       "      <td>3</td>\n",
       "      <td>3</td>\n",
       "      <td>1</td>\n",
       "      <td>1</td>\n",
       "      <td>1</td>\n",
       "      <td>1</td>\n",
       "      <td>1</td>\n",
       "      <td>1</td>\n",
       "      <td>1</td>\n",
       "      <td>2</td>\n",
       "    </tr>\n",
       "    <tr>\n",
       "      <th>199998</th>\n",
       "      <td>1</td>\n",
       "      <td>1</td>\n",
       "      <td>3</td>\n",
       "      <td>3</td>\n",
       "      <td>4</td>\n",
       "      <td>3</td>\n",
       "      <td>4</td>\n",
       "      <td>3</td>\n",
       "      <td>1</td>\n",
       "      <td>1</td>\n",
       "      <td>1</td>\n",
       "      <td>3</td>\n",
       "      <td>1</td>\n",
       "      <td>1</td>\n",
       "      <td>3</td>\n",
       "    </tr>\n",
       "  </tbody>\n",
       "</table>\n",
       "</div>"
      ],
      "text/plain": [
       "        Physical Disability  Respiratory Disease  Fire Growth Rate  \\\n",
       "199994                    1                    1                 3   \n",
       "199995                    2                    2                 2   \n",
       "199996                    1                    1                 3   \n",
       "199997                    1                    1                 3   \n",
       "199998                    1                    1                 3   \n",
       "\n",
       "        Temperature  Carbon monoxide concentration\\n  \\\n",
       "199994            4                                4   \n",
       "199995            4                                2   \n",
       "199996            3                                4   \n",
       "199997            4                                1   \n",
       "199998            3                                4   \n",
       "\n",
       "        Carbon Dioxide concentration   Population  Link Length  \\\n",
       "199994                              3           1            2   \n",
       "199995                              2           1            1   \n",
       "199996                              3           2            1   \n",
       "199997                              3           3            1   \n",
       "199998                              3           4            3   \n",
       "\n",
       "        Familiarity with Building Geometry  Joint -Muscle Disease   Body Type  \\\n",
       "199994                                   1                       2          3   \n",
       "199995                                   1                       2          3   \n",
       "199996                                   1                       2          1   \n",
       "199997                                   1                       1          1   \n",
       "199998                                   1                       1          1   \n",
       "\n",
       "        Age      Heart Disease      Sex   Total Risk  \n",
       "199994        1                  1     2           3  \n",
       "199995        1                  2     1           3  \n",
       "199996        1                  1     1           2  \n",
       "199997        1                  1     1           2  \n",
       "199998        3                  1     1           3  "
      ]
     },
     "execution_count": 295,
     "metadata": {},
     "output_type": "execute_result"
    }
   ],
   "source": [
    "data.tail()"
   ]
  },
  {
   "cell_type": "markdown",
   "metadata": {},
   "source": [
    "###  Starting with dividing the data into the test group and the training group, we chose 30% of the data for the test and 70% of the data for the training, we have 199,999 data records to divide it"
   ]
  },
  {
   "cell_type": "code",
   "execution_count": 296,
   "metadata": {},
   "outputs": [],
   "source": [
    " x_train,x_test,y_train,y_test=train_test_split(DataTrain_X,DataTrain_y,test_size=0.3)"
   ]
  },
  {
   "cell_type": "markdown",
   "metadata": {},
   "source": [
    "#### Shows the number of rows and columns in groups "
   ]
  },
  {
   "cell_type": "code",
   "execution_count": 297,
   "metadata": {},
   "outputs": [
    {
     "data": {
      "text/plain": [
       "(139999, 14)"
      ]
     },
     "execution_count": 297,
     "metadata": {},
     "output_type": "execute_result"
    }
   ],
   "source": [
    "x_train.shape\n"
   ]
  },
  {
   "cell_type": "code",
   "execution_count": 298,
   "metadata": {},
   "outputs": [
    {
     "data": {
      "text/plain": [
       "(139999,)"
      ]
     },
     "execution_count": 298,
     "metadata": {},
     "output_type": "execute_result"
    }
   ],
   "source": [
    "y_train.shape"
   ]
  },
  {
   "cell_type": "code",
   "execution_count": 299,
   "metadata": {},
   "outputs": [
    {
     "data": {
      "text/plain": [
       "(60000, 14)"
      ]
     },
     "execution_count": 299,
     "metadata": {},
     "output_type": "execute_result"
    }
   ],
   "source": [
    "x_test.shape"
   ]
  },
  {
   "cell_type": "code",
   "execution_count": 300,
   "metadata": {},
   "outputs": [
    {
     "data": {
      "text/plain": [
       "(60000,)"
      ]
     },
     "execution_count": 300,
     "metadata": {},
     "output_type": "execute_result"
    }
   ],
   "source": [
    "y_test.shape"
   ]
  },
  {
   "cell_type": "markdown",
   "metadata": {},
   "source": [
    "## create the model "
   ]
  },
  {
   "cell_type": "markdown",
   "metadata": {},
   "source": [
    "#### in our model, we have 14 features as inputs and we have 5 outputs as the risk values for each case, we will create Multi-Layer Perceptron using sci-kit learn, as first, we start by these parameters "
   ]
  },
  {
   "cell_type": "markdown",
   "metadata": {},
   "source": [
    "### the first model "
   ]
  },
  {
   "cell_type": "code",
   "execution_count": 303,
   "metadata": {},
   "outputs": [],
   "source": [
    "mlp_firstmodel = MLPClassifier(hidden_layer_sizes=(14,14), activation='logistic', solver='adam', max_iter=2000,alpha=0.1,learning_rate_init=0.001,momentum=0.5)\n"
   ]
  },
  {
   "cell_type": "markdown",
   "metadata": {},
   "source": [
    "### train the first model "
   ]
  },
  {
   "cell_type": "code",
   "execution_count": 304,
   "metadata": {},
   "outputs": [
    {
     "data": {
      "text/plain": [
       "MLPClassifier(activation='logistic', alpha=0.1, batch_size='auto', beta_1=0.9,\n",
       "              beta_2=0.999, early_stopping=False, epsilon=1e-08,\n",
       "              hidden_layer_sizes=(14, 14), learning_rate='constant',\n",
       "              learning_rate_init=0.001, max_fun=15000, max_iter=2000,\n",
       "              momentum=0.5, n_iter_no_change=10, nesterovs_momentum=True,\n",
       "              power_t=0.5, random_state=None, shuffle=True, solver='adam',\n",
       "              tol=0.0001, validation_fraction=0.1, verbose=False,\n",
       "              warm_start=False)"
      ]
     },
     "execution_count": 304,
     "metadata": {},
     "output_type": "execute_result"
    }
   ],
   "source": [
    "mlp_firstmodel.fit(x_train,y_train)"
   ]
  },
  {
   "cell_type": "markdown",
   "metadata": {},
   "source": [
    "#### import libraries from scikit learn to display the accuracy and confusion matrix "
   ]
  },
  {
   "cell_type": "code",
   "execution_count": 305,
   "metadata": {},
   "outputs": [],
   "source": [
    "from sklearn.metrics import classification_report, confusion_matrix"
   ]
  },
  {
   "cell_type": "markdown",
   "metadata": {},
   "source": [
    "#### starting the prediction with the test data group"
   ]
  },
  {
   "cell_type": "code",
   "execution_count": 306,
   "metadata": {},
   "outputs": [],
   "source": [
    "predictions = mlp_firstmodel.predict(x_test)"
   ]
  },
  {
   "cell_type": "markdown",
   "metadata": {},
   "source": [
    "#### accuracy and confusion matrix of the first model "
   ]
  },
  {
   "cell_type": "code",
   "execution_count": 307,
   "metadata": {},
   "outputs": [
    {
     "name": "stdout",
     "output_type": "stream",
     "text": [
      "[[ 2754    23     0     0     0]\n",
      " [   74 15434    10     0     0]\n",
      " [    0    77 24430   193     0]\n",
      " [    0     0     0 14575     8]\n",
      " [    0     0     0   101  2321]]\n",
      "              precision    recall  f1-score   support\n",
      "\n",
      "           1       0.97      0.99      0.98      2777\n",
      "           2       0.99      0.99      0.99     15518\n",
      "           3       1.00      0.99      0.99     24700\n",
      "           4       0.98      1.00      0.99     14583\n",
      "           5       1.00      0.96      0.98      2422\n",
      "\n",
      "    accuracy                           0.99     60000\n",
      "   macro avg       0.99      0.99      0.99     60000\n",
      "weighted avg       0.99      0.99      0.99     60000\n",
      "\n"
     ]
    }
   ],
   "source": [
    "print(confusion_matrix(y_test,predictions))\n",
    "print(classification_report(y_test,predictions))"
   ]
  },
  {
   "cell_type": "markdown",
   "metadata": {},
   "source": [
    "#### the first model got high accuracy, however, we want to create another model  to see the different"
   ]
  },
  {
   "cell_type": "markdown",
   "metadata": {},
   "source": [
    "### the second model"
   ]
  },
  {
   "cell_type": "code",
   "execution_count": 308,
   "metadata": {},
   "outputs": [],
   "source": [
    "mlp_secondmodel = MLPClassifier(hidden_layer_sizes=(14,14), activation='logistic', solver='adam', max_iter=1500,alpha=0.1,learning_rate_init=0.1,momentum=0.5)\n"
   ]
  },
  {
   "cell_type": "markdown",
   "metadata": {},
   "source": [
    "### train the second model"
   ]
  },
  {
   "cell_type": "code",
   "execution_count": 309,
   "metadata": {},
   "outputs": [
    {
     "data": {
      "text/plain": [
       "MLPClassifier(activation='logistic', alpha=0.1, batch_size='auto', beta_1=0.9,\n",
       "              beta_2=0.999, early_stopping=False, epsilon=1e-08,\n",
       "              hidden_layer_sizes=(14, 14), learning_rate='constant',\n",
       "              learning_rate_init=0.1, max_fun=15000, max_iter=1500,\n",
       "              momentum=0.5, n_iter_no_change=10, nesterovs_momentum=True,\n",
       "              power_t=0.5, random_state=None, shuffle=True, solver='adam',\n",
       "              tol=0.0001, validation_fraction=0.1, verbose=False,\n",
       "              warm_start=False)"
      ]
     },
     "execution_count": 309,
     "metadata": {},
     "output_type": "execute_result"
    }
   ],
   "source": [
    "mlp_secondmodel.fit(x_train,y_train)"
   ]
  },
  {
   "cell_type": "markdown",
   "metadata": {},
   "source": [
    "#### starting the prediction with the test data group"
   ]
  },
  {
   "cell_type": "code",
   "execution_count": 310,
   "metadata": {},
   "outputs": [],
   "source": [
    "predictions_s = mlp_secondmodel.predict(x_test)"
   ]
  },
  {
   "cell_type": "markdown",
   "metadata": {},
   "source": [
    "#### accuracy and confusion matrix of the second model "
   ]
  },
  {
   "cell_type": "code",
   "execution_count": 311,
   "metadata": {},
   "outputs": [
    {
     "name": "stdout",
     "output_type": "stream",
     "text": [
      "[[ 2719    58     0     0     0]\n",
      " [   54 14685   779     0     0]\n",
      " [    0     2 24340   358     0]\n",
      " [    0     0   379 14204     0]\n",
      " [    0     0     0   703  1719]]\n",
      "              precision    recall  f1-score   support\n",
      "\n",
      "           1       0.98      0.98      0.98      2777\n",
      "           2       1.00      0.95      0.97     15518\n",
      "           3       0.95      0.99      0.97     24700\n",
      "           4       0.93      0.97      0.95     14583\n",
      "           5       1.00      0.71      0.83      2422\n",
      "\n",
      "    accuracy                           0.96     60000\n",
      "   macro avg       0.97      0.92      0.94     60000\n",
      "weighted avg       0.96      0.96      0.96     60000\n",
      "\n"
     ]
    }
   ],
   "source": [
    "print(confusion_matrix(y_test,predictions_s))\n",
    "print(classification_report(y_test,predictions_s))"
   ]
  },
  {
   "cell_type": "markdown",
   "metadata": {},
   "source": [
    "### the third model "
   ]
  },
  {
   "cell_type": "code",
   "execution_count": 312,
   "metadata": {},
   "outputs": [],
   "source": [
    "mlp_thirdmodel = MLPClassifier(hidden_layer_sizes=(14,14), activation='logistic', solver='adam', max_iter=2000,alpha=0.1,learning_rate_init=0.2,momentum=0.5)\n"
   ]
  },
  {
   "cell_type": "markdown",
   "metadata": {},
   "source": [
    "#### train the third model "
   ]
  },
  {
   "cell_type": "code",
   "execution_count": 313,
   "metadata": {},
   "outputs": [
    {
     "data": {
      "text/plain": [
       "MLPClassifier(activation='logistic', alpha=0.1, batch_size='auto', beta_1=0.9,\n",
       "              beta_2=0.999, early_stopping=False, epsilon=1e-08,\n",
       "              hidden_layer_sizes=(14, 14), learning_rate='constant',\n",
       "              learning_rate_init=0.2, max_fun=15000, max_iter=2000,\n",
       "              momentum=0.5, n_iter_no_change=10, nesterovs_momentum=True,\n",
       "              power_t=0.5, random_state=None, shuffle=True, solver='adam',\n",
       "              tol=0.0001, validation_fraction=0.1, verbose=False,\n",
       "              warm_start=False)"
      ]
     },
     "execution_count": 313,
     "metadata": {},
     "output_type": "execute_result"
    }
   ],
   "source": [
    "mlp_thirdmodel.fit(x_train,y_train)"
   ]
  },
  {
   "cell_type": "markdown",
   "metadata": {},
   "source": [
    "#### starting the prediction with the test data group "
   ]
  },
  {
   "cell_type": "code",
   "execution_count": 314,
   "metadata": {},
   "outputs": [],
   "source": [
    "predictions_t = mlp_thirdmodel.predict(x_test)"
   ]
  },
  {
   "cell_type": "markdown",
   "metadata": {},
   "source": [
    "#### accuracy and confusion matrix of the third model"
   ]
  },
  {
   "cell_type": "code",
   "execution_count": 315,
   "metadata": {},
   "outputs": [
    {
     "name": "stdout",
     "output_type": "stream",
     "text": [
      "[[    0  2777     0     0     0]\n",
      " [    0 15047   471     0     0]\n",
      " [    0     0 22913  1787     0]\n",
      " [    0     0     0 14576     7]\n",
      " [    0     0     0   278  2144]]\n",
      "              precision    recall  f1-score   support\n",
      "\n",
      "           1       0.00      0.00      0.00      2777\n",
      "           2       0.84      0.97      0.90     15518\n",
      "           3       0.98      0.93      0.95     24700\n",
      "           4       0.88      1.00      0.93     14583\n",
      "           5       1.00      0.89      0.94      2422\n",
      "\n",
      "    accuracy                           0.91     60000\n",
      "   macro avg       0.74      0.76      0.75     60000\n",
      "weighted avg       0.87      0.91      0.89     60000\n",
      "\n"
     ]
    },
    {
     "name": "stderr",
     "output_type": "stream",
     "text": [
      "D:\\anaconda\\anacondaprogram\\envs\\tf\\lib\\site-packages\\sklearn\\metrics\\_classification.py:1272: UndefinedMetricWarning: Precision and F-score are ill-defined and being set to 0.0 in labels with no predicted samples. Use `zero_division` parameter to control this behavior.\n",
      "  _warn_prf(average, modifier, msg_start, len(result))\n"
     ]
    }
   ],
   "source": [
    "print(confusion_matrix(y_test,predictions_t))\n",
    "print(classification_report(y_test,predictions_t))"
   ]
  },
  {
   "cell_type": "markdown",
   "metadata": {},
   "source": [
    "### the fourth model "
   ]
  },
  {
   "cell_type": "code",
   "execution_count": 316,
   "metadata": {},
   "outputs": [],
   "source": [
    "mlp_fourthhdmodel = MLPClassifier(hidden_layer_sizes=(14,14), activation='relu', solver='sgd', max_iter=2000,alpha=0.1,learning_rate_init=0.1,momentum=0.5)\n"
   ]
  },
  {
   "cell_type": "markdown",
   "metadata": {},
   "source": [
    "#### train the fourth model "
   ]
  },
  {
   "cell_type": "code",
   "execution_count": 317,
   "metadata": {},
   "outputs": [
    {
     "data": {
      "text/plain": [
       "MLPClassifier(activation='relu', alpha=0.1, batch_size='auto', beta_1=0.9,\n",
       "              beta_2=0.999, early_stopping=False, epsilon=1e-08,\n",
       "              hidden_layer_sizes=(14, 14), learning_rate='constant',\n",
       "              learning_rate_init=0.1, max_fun=15000, max_iter=2000,\n",
       "              momentum=0.5, n_iter_no_change=10, nesterovs_momentum=True,\n",
       "              power_t=0.5, random_state=None, shuffle=True, solver='sgd',\n",
       "              tol=0.0001, validation_fraction=0.1, verbose=False,\n",
       "              warm_start=False)"
      ]
     },
     "execution_count": 317,
     "metadata": {},
     "output_type": "execute_result"
    }
   ],
   "source": [
    "mlp_fourthhdmodel.fit(x_train,y_train)"
   ]
  },
  {
   "cell_type": "markdown",
   "metadata": {},
   "source": [
    "####  starting the prediction with the test data group"
   ]
  },
  {
   "cell_type": "code",
   "execution_count": 318,
   "metadata": {},
   "outputs": [],
   "source": [
    "predictions_f = mlp_fourthhdmodel.predict(x_test)"
   ]
  },
  {
   "cell_type": "markdown",
   "metadata": {},
   "source": [
    "#### accuracy and confusion matrix of the fourth model"
   ]
  },
  {
   "cell_type": "code",
   "execution_count": 319,
   "metadata": {
    "scrolled": false
   },
   "outputs": [
    {
     "name": "stdout",
     "output_type": "stream",
     "text": [
      "[[ 2777     0     0     0     0]\n",
      " [  247 11534  3737     0     0]\n",
      " [    0    15 24685     0     0]\n",
      " [    0     0  3150 11433     0]\n",
      " [    0     0     0  2422     0]]\n",
      "              precision    recall  f1-score   support\n",
      "\n",
      "           1       0.92      1.00      0.96      2777\n",
      "           2       1.00      0.74      0.85     15518\n",
      "           3       0.78      1.00      0.88     24700\n",
      "           4       0.83      0.78      0.80     14583\n",
      "           5       0.00      0.00      0.00      2422\n",
      "\n",
      "    accuracy                           0.84     60000\n",
      "   macro avg       0.70      0.71      0.70     60000\n",
      "weighted avg       0.82      0.84      0.82     60000\n",
      "\n"
     ]
    },
    {
     "name": "stderr",
     "output_type": "stream",
     "text": [
      "D:\\anaconda\\anacondaprogram\\envs\\tf\\lib\\site-packages\\sklearn\\metrics\\_classification.py:1272: UndefinedMetricWarning: Precision and F-score are ill-defined and being set to 0.0 in labels with no predicted samples. Use `zero_division` parameter to control this behavior.\n",
      "  _warn_prf(average, modifier, msg_start, len(result))\n"
     ]
    }
   ],
   "source": [
    "print(confusion_matrix(y_test,predictions_f))\n",
    "print(classification_report(y_test,predictions_f))"
   ]
  },
  {
   "cell_type": "markdown",
   "metadata": {},
   "source": [
    "## read the test dataset "
   ]
  },
  {
   "cell_type": "code",
   "execution_count": 320,
   "metadata": {},
   "outputs": [],
   "source": [
    "datatest=pd.read_csv('D:/DataSet/FINAL_DATASET_TESTCASE_csv.csv')"
   ]
  },
  {
   "cell_type": "markdown",
   "metadata": {},
   "source": [
    "#### describe the test data set "
   ]
  },
  {
   "cell_type": "code",
   "execution_count": 321,
   "metadata": {
    "scrolled": false
   },
   "outputs": [
    {
     "data": {
      "text/html": [
       "<div>\n",
       "<style scoped>\n",
       "    .dataframe tbody tr th:only-of-type {\n",
       "        vertical-align: middle;\n",
       "    }\n",
       "\n",
       "    .dataframe tbody tr th {\n",
       "        vertical-align: top;\n",
       "    }\n",
       "\n",
       "    .dataframe thead th {\n",
       "        text-align: right;\n",
       "    }\n",
       "</style>\n",
       "<table border=\"1\" class=\"dataframe\">\n",
       "  <thead>\n",
       "    <tr style=\"text-align: right;\">\n",
       "      <th></th>\n",
       "      <th>Physical Disability</th>\n",
       "      <th>Respiratory Disease</th>\n",
       "      <th>Fire Growth Rate</th>\n",
       "      <th>Temperature</th>\n",
       "      <th>Carbon monoxide concentration</th>\n",
       "      <th>Carbon Dioxide concentration</th>\n",
       "      <th>Population</th>\n",
       "      <th>Link Length</th>\n",
       "      <th>Familiarity with Building Geometry</th>\n",
       "      <th>Joint -Muscle Disease</th>\n",
       "      <th>Body Type</th>\n",
       "      <th>Age</th>\n",
       "      <th>Heart Disease</th>\n",
       "      <th>Sex</th>\n",
       "      <th>Total Risk</th>\n",
       "    </tr>\n",
       "  </thead>\n",
       "  <tbody>\n",
       "    <tr>\n",
       "      <th>0</th>\n",
       "      <td>2</td>\n",
       "      <td>2</td>\n",
       "      <td>2</td>\n",
       "      <td>3</td>\n",
       "      <td>2</td>\n",
       "      <td>1</td>\n",
       "      <td>4</td>\n",
       "      <td>2</td>\n",
       "      <td>2</td>\n",
       "      <td>1</td>\n",
       "      <td>2</td>\n",
       "      <td>2</td>\n",
       "      <td>1</td>\n",
       "      <td>2</td>\n",
       "      <td>3</td>\n",
       "    </tr>\n",
       "    <tr>\n",
       "      <th>1</th>\n",
       "      <td>1</td>\n",
       "      <td>2</td>\n",
       "      <td>3</td>\n",
       "      <td>4</td>\n",
       "      <td>1</td>\n",
       "      <td>1</td>\n",
       "      <td>1</td>\n",
       "      <td>1</td>\n",
       "      <td>1</td>\n",
       "      <td>2</td>\n",
       "      <td>3</td>\n",
       "      <td>3</td>\n",
       "      <td>1</td>\n",
       "      <td>2</td>\n",
       "      <td>3</td>\n",
       "    </tr>\n",
       "    <tr>\n",
       "      <th>2</th>\n",
       "      <td>2</td>\n",
       "      <td>1</td>\n",
       "      <td>4</td>\n",
       "      <td>3</td>\n",
       "      <td>4</td>\n",
       "      <td>1</td>\n",
       "      <td>2</td>\n",
       "      <td>3</td>\n",
       "      <td>2</td>\n",
       "      <td>1</td>\n",
       "      <td>3</td>\n",
       "      <td>1</td>\n",
       "      <td>2</td>\n",
       "      <td>1</td>\n",
       "      <td>4</td>\n",
       "    </tr>\n",
       "    <tr>\n",
       "      <th>3</th>\n",
       "      <td>1</td>\n",
       "      <td>2</td>\n",
       "      <td>3</td>\n",
       "      <td>2</td>\n",
       "      <td>4</td>\n",
       "      <td>1</td>\n",
       "      <td>4</td>\n",
       "      <td>2</td>\n",
       "      <td>1</td>\n",
       "      <td>2</td>\n",
       "      <td>3</td>\n",
       "      <td>3</td>\n",
       "      <td>2</td>\n",
       "      <td>2</td>\n",
       "      <td>3</td>\n",
       "    </tr>\n",
       "    <tr>\n",
       "      <th>4</th>\n",
       "      <td>1</td>\n",
       "      <td>1</td>\n",
       "      <td>4</td>\n",
       "      <td>4</td>\n",
       "      <td>4</td>\n",
       "      <td>3</td>\n",
       "      <td>1</td>\n",
       "      <td>2</td>\n",
       "      <td>1</td>\n",
       "      <td>2</td>\n",
       "      <td>1</td>\n",
       "      <td>1</td>\n",
       "      <td>1</td>\n",
       "      <td>2</td>\n",
       "      <td>3</td>\n",
       "    </tr>\n",
       "  </tbody>\n",
       "</table>\n",
       "</div>"
      ],
      "text/plain": [
       "   Physical Disability  Respiratory Disease  Fire Growth Rate  Temperature  \\\n",
       "0                    2                    2                 2            3   \n",
       "1                    1                    2                 3            4   \n",
       "2                    2                    1                 4            3   \n",
       "3                    1                    2                 3            2   \n",
       "4                    1                    1                 4            4   \n",
       "\n",
       "   Carbon monoxide concentration  Carbon Dioxide concentration   Population  \\\n",
       "0                              2                              1           4   \n",
       "1                              1                              1           1   \n",
       "2                              4                              1           2   \n",
       "3                              4                              1           4   \n",
       "4                              4                              3           1   \n",
       "\n",
       "   Link Length  Familiarity with Building Geometry  Joint -Muscle Disease   \\\n",
       "0            2                                   2                       1   \n",
       "1            1                                   1                       2   \n",
       "2            3                                   2                       1   \n",
       "3            2                                   1                       2   \n",
       "4            2                                   1                       2   \n",
       "\n",
       "   Body Type  Age  Heart Disease  Sex   Total Risk  \n",
       "0          2    2              1     2           3  \n",
       "1          3    3              1     2           3  \n",
       "2          3    1              2     1           4  \n",
       "3          3    3              2     2           3  \n",
       "4          1    1              1     2           3  "
      ]
     },
     "execution_count": 321,
     "metadata": {},
     "output_type": "execute_result"
    }
   ],
   "source": [
    "datatest.head()"
   ]
  },
  {
   "cell_type": "code",
   "execution_count": 322,
   "metadata": {
    "scrolled": true
   },
   "outputs": [
    {
     "data": {
      "text/html": [
       "<div>\n",
       "<style scoped>\n",
       "    .dataframe tbody tr th:only-of-type {\n",
       "        vertical-align: middle;\n",
       "    }\n",
       "\n",
       "    .dataframe tbody tr th {\n",
       "        vertical-align: top;\n",
       "    }\n",
       "\n",
       "    .dataframe thead th {\n",
       "        text-align: right;\n",
       "    }\n",
       "</style>\n",
       "<table border=\"1\" class=\"dataframe\">\n",
       "  <thead>\n",
       "    <tr style=\"text-align: right;\">\n",
       "      <th></th>\n",
       "      <th>Physical Disability</th>\n",
       "      <th>Respiratory Disease</th>\n",
       "      <th>Fire Growth Rate</th>\n",
       "      <th>Temperature</th>\n",
       "      <th>Carbon monoxide concentration</th>\n",
       "      <th>Carbon Dioxide concentration</th>\n",
       "      <th>Population</th>\n",
       "      <th>Link Length</th>\n",
       "      <th>Familiarity with Building Geometry</th>\n",
       "      <th>Joint -Muscle Disease</th>\n",
       "      <th>Body Type</th>\n",
       "      <th>Age</th>\n",
       "      <th>Heart Disease</th>\n",
       "      <th>Sex</th>\n",
       "      <th>Total Risk</th>\n",
       "    </tr>\n",
       "  </thead>\n",
       "  <tbody>\n",
       "    <tr>\n",
       "      <th>1494</th>\n",
       "      <td>1</td>\n",
       "      <td>1</td>\n",
       "      <td>5</td>\n",
       "      <td>4</td>\n",
       "      <td>1</td>\n",
       "      <td>2</td>\n",
       "      <td>4</td>\n",
       "      <td>2</td>\n",
       "      <td>1</td>\n",
       "      <td>2</td>\n",
       "      <td>3</td>\n",
       "      <td>1</td>\n",
       "      <td>1</td>\n",
       "      <td>1</td>\n",
       "      <td>3</td>\n",
       "    </tr>\n",
       "    <tr>\n",
       "      <th>1495</th>\n",
       "      <td>2</td>\n",
       "      <td>2</td>\n",
       "      <td>1</td>\n",
       "      <td>3</td>\n",
       "      <td>4</td>\n",
       "      <td>1</td>\n",
       "      <td>1</td>\n",
       "      <td>3</td>\n",
       "      <td>2</td>\n",
       "      <td>2</td>\n",
       "      <td>3</td>\n",
       "      <td>2</td>\n",
       "      <td>1</td>\n",
       "      <td>2</td>\n",
       "      <td>3</td>\n",
       "    </tr>\n",
       "    <tr>\n",
       "      <th>1496</th>\n",
       "      <td>2</td>\n",
       "      <td>1</td>\n",
       "      <td>3</td>\n",
       "      <td>2</td>\n",
       "      <td>2</td>\n",
       "      <td>2</td>\n",
       "      <td>4</td>\n",
       "      <td>2</td>\n",
       "      <td>1</td>\n",
       "      <td>2</td>\n",
       "      <td>3</td>\n",
       "      <td>1</td>\n",
       "      <td>2</td>\n",
       "      <td>2</td>\n",
       "      <td>3</td>\n",
       "    </tr>\n",
       "    <tr>\n",
       "      <th>1497</th>\n",
       "      <td>2</td>\n",
       "      <td>1</td>\n",
       "      <td>3</td>\n",
       "      <td>2</td>\n",
       "      <td>1</td>\n",
       "      <td>1</td>\n",
       "      <td>3</td>\n",
       "      <td>3</td>\n",
       "      <td>1</td>\n",
       "      <td>2</td>\n",
       "      <td>2</td>\n",
       "      <td>1</td>\n",
       "      <td>1</td>\n",
       "      <td>2</td>\n",
       "      <td>3</td>\n",
       "    </tr>\n",
       "    <tr>\n",
       "      <th>1498</th>\n",
       "      <td>2</td>\n",
       "      <td>2</td>\n",
       "      <td>4</td>\n",
       "      <td>1</td>\n",
       "      <td>5</td>\n",
       "      <td>1</td>\n",
       "      <td>3</td>\n",
       "      <td>3</td>\n",
       "      <td>1</td>\n",
       "      <td>2</td>\n",
       "      <td>3</td>\n",
       "      <td>3</td>\n",
       "      <td>2</td>\n",
       "      <td>1</td>\n",
       "      <td>4</td>\n",
       "    </tr>\n",
       "  </tbody>\n",
       "</table>\n",
       "</div>"
      ],
      "text/plain": [
       "      Physical Disability  Respiratory Disease  Fire Growth Rate  Temperature  \\\n",
       "1494                    1                    1                 5            4   \n",
       "1495                    2                    2                 1            3   \n",
       "1496                    2                    1                 3            2   \n",
       "1497                    2                    1                 3            2   \n",
       "1498                    2                    2                 4            1   \n",
       "\n",
       "      Carbon monoxide concentration  Carbon Dioxide concentration   \\\n",
       "1494                              1                              2   \n",
       "1495                              4                              1   \n",
       "1496                              2                              2   \n",
       "1497                              1                              1   \n",
       "1498                              5                              1   \n",
       "\n",
       "      Population  Link Length  Familiarity with Building Geometry  \\\n",
       "1494           4            2                                   1   \n",
       "1495           1            3                                   2   \n",
       "1496           4            2                                   1   \n",
       "1497           3            3                                   1   \n",
       "1498           3            3                                   1   \n",
       "\n",
       "      Joint -Muscle Disease   Body Type  Age  Heart Disease  Sex   Total Risk  \n",
       "1494                       2          3    1              1     1           3  \n",
       "1495                       2          3    2              1     2           3  \n",
       "1496                       2          3    1              2     2           3  \n",
       "1497                       2          2    1              1     2           3  \n",
       "1498                       2          3    3              2     1           4  "
      ]
     },
     "execution_count": 322,
     "metadata": {},
     "output_type": "execute_result"
    }
   ],
   "source": [
    "datatest.tail()"
   ]
  },
  {
   "cell_type": "code",
   "execution_count": 323,
   "metadata": {},
   "outputs": [
    {
     "name": "stdout",
     "output_type": "stream",
     "text": [
      "1\n",
      "5\n",
      "2.971981320880587\n"
     ]
    }
   ],
   "source": [
    "print(datatest[\"Total Risk\"].min())\n",
    "\n",
    "print(datatest[\"Total Risk\"].max())\n",
    "\n",
    "print(datatest[\"Total Risk\"].mean())"
   ]
  },
  {
   "cell_type": "code",
   "execution_count": 334,
   "metadata": {},
   "outputs": [
    {
     "data": {
      "text/html": [
       "<div>\n",
       "<style scoped>\n",
       "    .dataframe tbody tr th:only-of-type {\n",
       "        vertical-align: middle;\n",
       "    }\n",
       "\n",
       "    .dataframe tbody tr th {\n",
       "        vertical-align: top;\n",
       "    }\n",
       "\n",
       "    .dataframe thead th {\n",
       "        text-align: right;\n",
       "    }\n",
       "</style>\n",
       "<table border=\"1\" class=\"dataframe\">\n",
       "  <thead>\n",
       "    <tr style=\"text-align: right;\">\n",
       "      <th></th>\n",
       "      <th>Physical Disability</th>\n",
       "      <th>Respiratory Disease</th>\n",
       "      <th>Fire Growth Rate</th>\n",
       "      <th>Temperature</th>\n",
       "      <th>Carbon monoxide concentration</th>\n",
       "      <th>Carbon Dioxide concentration</th>\n",
       "      <th>Population</th>\n",
       "      <th>Link Length</th>\n",
       "      <th>Familiarity with Building Geometry</th>\n",
       "      <th>Joint -Muscle Disease</th>\n",
       "      <th>Body Type</th>\n",
       "      <th>Age</th>\n",
       "      <th>Heart Disease</th>\n",
       "      <th>Sex</th>\n",
       "      <th>Total Risk</th>\n",
       "    </tr>\n",
       "  </thead>\n",
       "  <tbody>\n",
       "    <tr>\n",
       "      <th>count</th>\n",
       "      <td>1499.000000</td>\n",
       "      <td>1499.000000</td>\n",
       "      <td>1499.000000</td>\n",
       "      <td>1499.000000</td>\n",
       "      <td>1499.00000</td>\n",
       "      <td>1499.000000</td>\n",
       "      <td>1499.000000</td>\n",
       "      <td>1499.000000</td>\n",
       "      <td>1499.000000</td>\n",
       "      <td>1499.000000</td>\n",
       "      <td>1499.000000</td>\n",
       "      <td>1499.000000</td>\n",
       "      <td>1499.000000</td>\n",
       "      <td>1499.00000</td>\n",
       "      <td>1499.000000</td>\n",
       "    </tr>\n",
       "    <tr>\n",
       "      <th>mean</th>\n",
       "      <td>1.492995</td>\n",
       "      <td>1.515010</td>\n",
       "      <td>2.965310</td>\n",
       "      <td>2.519013</td>\n",
       "      <td>3.00467</td>\n",
       "      <td>1.979320</td>\n",
       "      <td>2.509673</td>\n",
       "      <td>2.010007</td>\n",
       "      <td>1.482989</td>\n",
       "      <td>1.511007</td>\n",
       "      <td>2.000667</td>\n",
       "      <td>2.002001</td>\n",
       "      <td>1.513009</td>\n",
       "      <td>1.48966</td>\n",
       "      <td>2.971981</td>\n",
       "    </tr>\n",
       "    <tr>\n",
       "      <th>std</th>\n",
       "      <td>0.500118</td>\n",
       "      <td>0.499941</td>\n",
       "      <td>1.394294</td>\n",
       "      <td>1.136307</td>\n",
       "      <td>1.42385</td>\n",
       "      <td>0.826933</td>\n",
       "      <td>1.118664</td>\n",
       "      <td>0.827938</td>\n",
       "      <td>0.499877</td>\n",
       "      <td>0.500046</td>\n",
       "      <td>0.809242</td>\n",
       "      <td>0.820707</td>\n",
       "      <td>0.499998</td>\n",
       "      <td>0.50006</td>\n",
       "      <td>0.935440</td>\n",
       "    </tr>\n",
       "    <tr>\n",
       "      <th>min</th>\n",
       "      <td>1.000000</td>\n",
       "      <td>1.000000</td>\n",
       "      <td>1.000000</td>\n",
       "      <td>1.000000</td>\n",
       "      <td>1.00000</td>\n",
       "      <td>1.000000</td>\n",
       "      <td>1.000000</td>\n",
       "      <td>1.000000</td>\n",
       "      <td>1.000000</td>\n",
       "      <td>1.000000</td>\n",
       "      <td>1.000000</td>\n",
       "      <td>1.000000</td>\n",
       "      <td>1.000000</td>\n",
       "      <td>1.00000</td>\n",
       "      <td>1.000000</td>\n",
       "    </tr>\n",
       "    <tr>\n",
       "      <th>25%</th>\n",
       "      <td>1.000000</td>\n",
       "      <td>1.000000</td>\n",
       "      <td>2.000000</td>\n",
       "      <td>1.000000</td>\n",
       "      <td>2.00000</td>\n",
       "      <td>1.000000</td>\n",
       "      <td>2.000000</td>\n",
       "      <td>1.000000</td>\n",
       "      <td>1.000000</td>\n",
       "      <td>1.000000</td>\n",
       "      <td>1.000000</td>\n",
       "      <td>1.000000</td>\n",
       "      <td>1.000000</td>\n",
       "      <td>1.00000</td>\n",
       "      <td>2.000000</td>\n",
       "    </tr>\n",
       "    <tr>\n",
       "      <th>50%</th>\n",
       "      <td>1.000000</td>\n",
       "      <td>2.000000</td>\n",
       "      <td>3.000000</td>\n",
       "      <td>3.000000</td>\n",
       "      <td>3.00000</td>\n",
       "      <td>2.000000</td>\n",
       "      <td>3.000000</td>\n",
       "      <td>2.000000</td>\n",
       "      <td>1.000000</td>\n",
       "      <td>2.000000</td>\n",
       "      <td>2.000000</td>\n",
       "      <td>2.000000</td>\n",
       "      <td>2.000000</td>\n",
       "      <td>1.00000</td>\n",
       "      <td>3.000000</td>\n",
       "    </tr>\n",
       "    <tr>\n",
       "      <th>75%</th>\n",
       "      <td>2.000000</td>\n",
       "      <td>2.000000</td>\n",
       "      <td>4.000000</td>\n",
       "      <td>4.000000</td>\n",
       "      <td>4.00000</td>\n",
       "      <td>3.000000</td>\n",
       "      <td>4.000000</td>\n",
       "      <td>3.000000</td>\n",
       "      <td>2.000000</td>\n",
       "      <td>2.000000</td>\n",
       "      <td>3.000000</td>\n",
       "      <td>3.000000</td>\n",
       "      <td>2.000000</td>\n",
       "      <td>2.00000</td>\n",
       "      <td>4.000000</td>\n",
       "    </tr>\n",
       "    <tr>\n",
       "      <th>max</th>\n",
       "      <td>2.000000</td>\n",
       "      <td>2.000000</td>\n",
       "      <td>5.000000</td>\n",
       "      <td>4.000000</td>\n",
       "      <td>5.00000</td>\n",
       "      <td>3.000000</td>\n",
       "      <td>4.000000</td>\n",
       "      <td>3.000000</td>\n",
       "      <td>2.000000</td>\n",
       "      <td>2.000000</td>\n",
       "      <td>3.000000</td>\n",
       "      <td>3.000000</td>\n",
       "      <td>2.000000</td>\n",
       "      <td>2.00000</td>\n",
       "      <td>5.000000</td>\n",
       "    </tr>\n",
       "  </tbody>\n",
       "</table>\n",
       "</div>"
      ],
      "text/plain": [
       "       Physical Disability  Respiratory Disease  Fire Growth Rate  \\\n",
       "count          1499.000000          1499.000000       1499.000000   \n",
       "mean              1.492995             1.515010          2.965310   \n",
       "std               0.500118             0.499941          1.394294   \n",
       "min               1.000000             1.000000          1.000000   \n",
       "25%               1.000000             1.000000          2.000000   \n",
       "50%               1.000000             2.000000          3.000000   \n",
       "75%               2.000000             2.000000          4.000000   \n",
       "max               2.000000             2.000000          5.000000   \n",
       "\n",
       "       Temperature  Carbon monoxide concentration  \\\n",
       "count  1499.000000                     1499.00000   \n",
       "mean      2.519013                        3.00467   \n",
       "std       1.136307                        1.42385   \n",
       "min       1.000000                        1.00000   \n",
       "25%       1.000000                        2.00000   \n",
       "50%       3.000000                        3.00000   \n",
       "75%       4.000000                        4.00000   \n",
       "max       4.000000                        5.00000   \n",
       "\n",
       "       Carbon Dioxide concentration    Population  Link Length  \\\n",
       "count                    1499.000000  1499.000000  1499.000000   \n",
       "mean                        1.979320     2.509673     2.010007   \n",
       "std                         0.826933     1.118664     0.827938   \n",
       "min                         1.000000     1.000000     1.000000   \n",
       "25%                         1.000000     2.000000     1.000000   \n",
       "50%                         2.000000     3.000000     2.000000   \n",
       "75%                         3.000000     4.000000     3.000000   \n",
       "max                         3.000000     4.000000     3.000000   \n",
       "\n",
       "       Familiarity with Building Geometry  Joint -Muscle Disease   \\\n",
       "count                         1499.000000             1499.000000   \n",
       "mean                             1.482989                1.511007   \n",
       "std                              0.499877                0.500046   \n",
       "min                              1.000000                1.000000   \n",
       "25%                              1.000000                1.000000   \n",
       "50%                              1.000000                2.000000   \n",
       "75%                              2.000000                2.000000   \n",
       "max                              2.000000                2.000000   \n",
       "\n",
       "         Body Type          Age  Heart Disease        Sex    Total Risk  \n",
       "count  1499.000000  1499.000000    1499.000000  1499.00000  1499.000000  \n",
       "mean      2.000667     2.002001       1.513009     1.48966     2.971981  \n",
       "std       0.809242     0.820707       0.499998     0.50006     0.935440  \n",
       "min       1.000000     1.000000       1.000000     1.00000     1.000000  \n",
       "25%       1.000000     1.000000       1.000000     1.00000     2.000000  \n",
       "50%       2.000000     2.000000       2.000000     1.00000     3.000000  \n",
       "75%       3.000000     3.000000       2.000000     2.00000     4.000000  \n",
       "max       3.000000     3.000000       2.000000     2.00000     5.000000  "
      ]
     },
     "execution_count": 334,
     "metadata": {},
     "output_type": "execute_result"
    }
   ],
   "source": [
    "datatest.describe()\n"
   ]
  },
  {
   "cell_type": "markdown",
   "metadata": {},
   "source": [
    "### split the test dataset"
   ]
  },
  {
   "cell_type": "code",
   "execution_count": 324,
   "metadata": {},
   "outputs": [
    {
     "name": "stdout",
     "output_type": "stream",
     "text": [
      "(1499, 14)\n"
     ]
    }
   ],
   "source": [
    "DataTrain_X_test= datatest.iloc[:, :-1].values\n",
    "print(DataTrain_X_test.shape)"
   ]
  },
  {
   "cell_type": "code",
   "execution_count": 325,
   "metadata": {},
   "outputs": [
    {
     "name": "stdout",
     "output_type": "stream",
     "text": [
      "(1499,)\n"
     ]
    }
   ],
   "source": [
    "DataTrain_y_test= datatest.iloc[:, -1].values\n",
    "print(DataTrain_y_test.shape)"
   ]
  },
  {
   "cell_type": "markdown",
   "metadata": {},
   "source": [
    "### test the first model "
   ]
  },
  {
   "cell_type": "code",
   "execution_count": 326,
   "metadata": {},
   "outputs": [],
   "source": [
    "predictions_t1 = mlp_firstmodel.predict(DataTrain_X_test)"
   ]
  },
  {
   "cell_type": "markdown",
   "metadata": {},
   "source": [
    "#### result of the test"
   ]
  },
  {
   "cell_type": "code",
   "execution_count": 327,
   "metadata": {},
   "outputs": [
    {
     "name": "stdout",
     "output_type": "stream",
     "text": [
      "[[ 79   0   0   0   0]\n",
      " [  1 370   1   0   0]\n",
      " [  0   1 623   4   0]\n",
      " [  0   0   0 352   0]\n",
      " [  0   0   0   2  66]]\n",
      "              precision    recall  f1-score   support\n",
      "\n",
      "           1       0.99      1.00      0.99        79\n",
      "           2       1.00      0.99      1.00       372\n",
      "           3       1.00      0.99      1.00       628\n",
      "           4       0.98      1.00      0.99       352\n",
      "           5       1.00      0.97      0.99        68\n",
      "\n",
      "    accuracy                           0.99      1499\n",
      "   macro avg       0.99      0.99      0.99      1499\n",
      "weighted avg       0.99      0.99      0.99      1499\n",
      "\n"
     ]
    }
   ],
   "source": [
    "print(confusion_matrix(DataTrain_y_test,predictions_t1))\n",
    "print(classification_report(DataTrain_y_test,predictions_t1))"
   ]
  },
  {
   "cell_type": "markdown",
   "metadata": {},
   "source": [
    "### test the second model "
   ]
  },
  {
   "cell_type": "code",
   "execution_count": 328,
   "metadata": {},
   "outputs": [],
   "source": [
    "predictions_t2 =mlp_secondmodel.predict(DataTrain_X_test)"
   ]
  },
  {
   "cell_type": "markdown",
   "metadata": {},
   "source": [
    "#### result of the test"
   ]
  },
  {
   "cell_type": "code",
   "execution_count": 329,
   "metadata": {},
   "outputs": [
    {
     "name": "stdout",
     "output_type": "stream",
     "text": [
      "[[ 78   1   0   0   0]\n",
      " [  2 345  25   0   0]\n",
      " [  0   0 618  10   0]\n",
      " [  0   0   9 343   0]\n",
      " [  0   0   0  16  52]]\n",
      "              precision    recall  f1-score   support\n",
      "\n",
      "           1       0.97      0.99      0.98        79\n",
      "           2       1.00      0.93      0.96       372\n",
      "           3       0.95      0.98      0.97       628\n",
      "           4       0.93      0.97      0.95       352\n",
      "           5       1.00      0.76      0.87        68\n",
      "\n",
      "    accuracy                           0.96      1499\n",
      "   macro avg       0.97      0.93      0.95      1499\n",
      "weighted avg       0.96      0.96      0.96      1499\n",
      "\n"
     ]
    }
   ],
   "source": [
    "print(confusion_matrix(DataTrain_y_test,predictions_t2))\n",
    "print(classification_report(DataTrain_y_test,predictions_t2))"
   ]
  },
  {
   "cell_type": "markdown",
   "metadata": {},
   "source": [
    "### test the third model "
   ]
  },
  {
   "cell_type": "code",
   "execution_count": 330,
   "metadata": {},
   "outputs": [],
   "source": [
    "predictions_t3 =mlp_thirdmodel.predict(DataTrain_X_test)"
   ]
  },
  {
   "cell_type": "markdown",
   "metadata": {},
   "source": [
    "####  result of the test "
   ]
  },
  {
   "cell_type": "code",
   "execution_count": 331,
   "metadata": {},
   "outputs": [
    {
     "name": "stdout",
     "output_type": "stream",
     "text": [
      "[[  0  79   0   0   0]\n",
      " [  0 361  11   0   0]\n",
      " [  0   0 570  58   0]\n",
      " [  0   0   0 352   0]\n",
      " [  0   0   0   6  62]]\n",
      "              precision    recall  f1-score   support\n",
      "\n",
      "           1       0.00      0.00      0.00        79\n",
      "           2       0.82      0.97      0.89       372\n",
      "           3       0.98      0.91      0.94       628\n",
      "           4       0.85      1.00      0.92       352\n",
      "           5       1.00      0.91      0.95        68\n",
      "\n",
      "    accuracy                           0.90      1499\n",
      "   macro avg       0.73      0.76      0.74      1499\n",
      "weighted avg       0.86      0.90      0.87      1499\n",
      "\n"
     ]
    },
    {
     "name": "stderr",
     "output_type": "stream",
     "text": [
      "D:\\anaconda\\anacondaprogram\\envs\\tf\\lib\\site-packages\\sklearn\\metrics\\_classification.py:1272: UndefinedMetricWarning: Precision and F-score are ill-defined and being set to 0.0 in labels with no predicted samples. Use `zero_division` parameter to control this behavior.\n",
      "  _warn_prf(average, modifier, msg_start, len(result))\n"
     ]
    }
   ],
   "source": [
    "print(confusion_matrix(DataTrain_y_test,predictions_t3))\n",
    "print(classification_report(DataTrain_y_test,predictions_t3))"
   ]
  },
  {
   "cell_type": "markdown",
   "metadata": {},
   "source": [
    "### test the fourth model "
   ]
  },
  {
   "cell_type": "code",
   "execution_count": 332,
   "metadata": {},
   "outputs": [],
   "source": [
    "predictions_t4 =mlp_fourthhdmodel.predict(DataTrain_X_test)"
   ]
  },
  {
   "cell_type": "markdown",
   "metadata": {},
   "source": [
    "#### result of the test"
   ]
  },
  {
   "cell_type": "code",
   "execution_count": 333,
   "metadata": {},
   "outputs": [
    {
     "name": "stdout",
     "output_type": "stream",
     "text": [
      "[[ 79   0   0   0   0]\n",
      " [  8 282  82   0   0]\n",
      " [  0   0 628   0   0]\n",
      " [  0   0  67 285   0]\n",
      " [  0   0   0  68   0]]\n",
      "              precision    recall  f1-score   support\n",
      "\n",
      "           1       0.91      1.00      0.95        79\n",
      "           2       1.00      0.76      0.86       372\n",
      "           3       0.81      1.00      0.89       628\n",
      "           4       0.81      0.81      0.81       352\n",
      "           5       0.00      0.00      0.00        68\n",
      "\n",
      "    accuracy                           0.85      1499\n",
      "   macro avg       0.70      0.71      0.70      1499\n",
      "weighted avg       0.82      0.85      0.83      1499\n",
      "\n"
     ]
    },
    {
     "name": "stderr",
     "output_type": "stream",
     "text": [
      "D:\\anaconda\\anacondaprogram\\envs\\tf\\lib\\site-packages\\sklearn\\metrics\\_classification.py:1272: UndefinedMetricWarning: Precision and F-score are ill-defined and being set to 0.0 in labels with no predicted samples. Use `zero_division` parameter to control this behavior.\n",
      "  _warn_prf(average, modifier, msg_start, len(result))\n"
     ]
    }
   ],
   "source": [
    "print(confusion_matrix(DataTrain_y_test,predictions_t4))\n",
    "print(classification_report(DataTrain_y_test,predictions_t4))"
   ]
  },
  {
   "cell_type": "markdown",
   "metadata": {},
   "source": [
    "####  save the models "
   ]
  },
  {
   "cell_type": "code",
   "execution_count": 487,
   "metadata": {},
   "outputs": [],
   "source": [
    "with open('model.pkl', 'wb') as model_file:\n",
    "    pickle.dump(mlp_firstmodel, model_file)\n",
    "\n",
    "with open('model_1.pkl', 'wb') as model_file:\n",
    "    pickle.dump(mlp_secondmodel, model_file)\n",
    "\n",
    "\n",
    "with open('model_2.pkl', 'wb') as model_file:\n",
    "    pickle.dump(mlp_thirdmodel, model_file)\n",
    "    \n",
    " "
   ]
  },
  {
   "cell_type": "markdown",
   "metadata": {},
   "source": [
    "## functions to classify the gathered data "
   ]
  },
  {
   "cell_type": "code",
   "execution_count": 118,
   "metadata": {},
   "outputs": [],
   "source": [
    "def tempconvert( x ):\n",
    "      if x < 45:\n",
    "        return 1\n",
    "      elif x< 75:\n",
    "        return 2\n",
    "      elif x < 150:\n",
    "        return 3\n",
    "      elif x > 150:\n",
    "        return 4\n"
   ]
  },
  {
   "cell_type": "code",
   "execution_count": 119,
   "metadata": {},
   "outputs": [],
   "source": [
    "def Cmonoxideconvert( x ):\n",
    "      if x <= 0:\n",
    "        return 1\n",
    "      elif x<= 100:\n",
    "        return 2\n",
    "      elif x <=6400:\n",
    "        return 3\n",
    "      elif x <= 12600:\n",
    "        return 4\n",
    "      elif x > 12601:\n",
    "        return 5"
   ]
  },
  {
   "cell_type": "code",
   "execution_count": 348,
   "metadata": {},
   "outputs": [],
   "source": [
    "def Cdioxideconvert( x ):\n",
    "      if x <= 1000:\n",
    "        return 1\n",
    "      elif x<= 5000:\n",
    "        return 2\n",
    "      elif x >5001:\n",
    "        return 3\n",
    "    "
   ]
  },
  {
   "cell_type": "code",
   "execution_count": 121,
   "metadata": {},
   "outputs": [],
   "source": [
    "def Populationconvert( x ):\n",
    "      if x <=0.8:\n",
    "        return 1\n",
    "      elif x<= 1.8:\n",
    "        return 2\n",
    "      elif x <=4:\n",
    "        return 3\n",
    "      elif x > 4:\n",
    "        return 4"
   ]
  },
  {
   "cell_type": "code",
   "execution_count": 122,
   "metadata": {},
   "outputs": [],
   "source": [
    "def LLengthconvert( x ):\n",
    "      if x <=10:\n",
    "        return 3\n",
    "      elif x<= 30:\n",
    "        return 2\n",
    "      elif x >30:\n",
    "        return 1\n",
    "     "
   ]
  },
  {
   "cell_type": "code",
   "execution_count": 123,
   "metadata": {},
   "outputs": [],
   "source": [
    "def ageconvert( x ):\n",
    "      if x <=40:\n",
    "        return 1\n",
    "      elif x<= 60:\n",
    "        return 2\n",
    "      elif x >60:\n",
    "        return 3\n",
    "     "
   ]
  },
  {
   "cell_type": "code",
   "execution_count": 124,
   "metadata": {},
   "outputs": [],
   "source": [
    "def bodyconvert( x ):\n",
    "      if x ==\"Athlete\":\n",
    "        return 1\n",
    "      elif x== \"Normal\":\n",
    "        return 2\n",
    "      elif x ==\"Obese\":\n",
    "        return 3"
   ]
  },
  {
   "cell_type": "code",
   "execution_count": 125,
   "metadata": {},
   "outputs": [],
   "source": [
    "def FGRateconvert( x ):\n",
    "      if x <=0:\n",
    "        return 1\n",
    "      elif x<= 0.0058:\n",
    "        return 2\n",
    "      elif x<=0.024:\n",
    "        return 3\n",
    "      elif x <=0.094:\n",
    "        return 4\n",
    "      elif x >0.094:\n",
    "        return 5"
   ]
  },
  {
   "cell_type": "code",
   "execution_count": 220,
   "metadata": {},
   "outputs": [],
   "source": [
    "def Binaryconvert( x ):\n",
    "      if x is True:\n",
    "        return 1\n",
    "      elif x is False:\n",
    "        return 2\n",
    "     "
   ]
  },
  {
   "cell_type": "code",
   "execution_count": 222,
   "metadata": {},
   "outputs": [],
   "source": [
    "def versaBinaryconvert( x ):\n",
    "      if x is True:\n",
    "        return 2\n",
    "      elif x is False:\n",
    "        return 1\n",
    "     "
   ]
  },
  {
   "cell_type": "markdown",
   "metadata": {},
   "source": [
    "## functions to generate missing data "
   ]
  },
  {
   "cell_type": "code",
   "execution_count": 128,
   "metadata": {},
   "outputs": [],
   "source": [
    "def gen_fgr():\n",
    "    \n",
    "    \n",
    "\n",
    "    value = random()\n",
    "    return(value)*0.05"
   ]
  },
  {
   "cell_type": "code",
   "execution_count": 129,
   "metadata": {},
   "outputs": [],
   "source": [
    "def gen_temp():\n",
    "    \n",
    "    value =randint(0,300)\n",
    "    return(value)"
   ]
  },
  {
   "cell_type": "code",
   "execution_count": 130,
   "metadata": {},
   "outputs": [],
   "source": [
    "def gen_cm():\n",
    "    \n",
    "    value =randint(0,14000)\n",
    "    return(value)"
   ]
  },
  {
   "cell_type": "code",
   "execution_count": 131,
   "metadata": {},
   "outputs": [],
   "source": [
    "def gen_cd():\n",
    "    \n",
    "    value =randint(0,42000)\n",
    "    return(value)"
   ]
  },
  {
   "cell_type": "code",
   "execution_count": 135,
   "metadata": {},
   "outputs": [],
   "source": [
    "def gen_pu():\n",
    "    \n",
    "    value_people =randint(0,20)\n",
    "    value_area =randint(2,10)\n",
    "    xs=value_people/value_area\n",
    "    return(xs)"
   ]
  },
  {
   "cell_type": "code",
   "execution_count": 136,
   "metadata": {},
   "outputs": [],
   "source": [
    "def gen_ll():\n",
    "    \n",
    "    value =randint(0,50)\n",
    "    return(value)"
   ]
  },
  {
   "cell_type": "markdown",
   "metadata": {},
   "source": [
    "#### function to write on existing CSV to collect all the needed data in one file for predictions"
   ]
  },
  {
   "cell_type": "code",
   "execution_count": 254,
   "metadata": {},
   "outputs": [],
   "source": [
    "from csv import writer\n",
    "\n",
    "def append_row(list_of_elem):\n",
    "    # Open file in append mode\n",
    "    with open('create_reco.csv', 'a+', newline='') as write_obj:\n",
    "        # Create a writer object from csv module\n",
    "        csv_writer = writer(write_obj)\n",
    "        # Add contents of list as last row in the csv file\n",
    "        csv_writer.writerow(list_of_elem)\n",
    " "
   ]
  },
  {
   "cell_type": "markdown",
   "metadata": {},
   "source": [
    "### this function is created to gather all the data by taking personal data from the database and generate missing data, alongside with classifying all the values and write it in the CSV file  "
   ]
  },
  {
   "cell_type": "code",
   "execution_count": 461,
   "metadata": {},
   "outputs": [],
   "source": [
    "def gen_FullRecored(pd,rd,fwb,jmd,bt,age,hd,sexF):\n",
    "    PD=versaBinaryconvert(pd)\n",
    "    RD=versaBinaryconvert(rd)\n",
    "    FGR=FGRateconvert(gen_fgr())\n",
    "    TEMP=tempconvert(gen_temp())\n",
    "    CM=Cmonoxideconvert(gen_cm())\n",
    "    CD=Cdioxideconvert(gen_cd())\n",
    "    PU=Populationconvert(gen_pu())\n",
    "    LL=LLengthconvert(gen_ll())\n",
    "    FWB=Binaryconvert(fwb)\n",
    "    JMD=versaBinaryconvert(jmd)\n",
    "    BT=bodyconvert(bt)\n",
    "    AGE=ageconvert(age)\n",
    "    HD=versaBinaryconvert(hd)\n",
    "    if bool(sexF) ==True:\n",
    "        SEX=2\n",
    "    elif bool(sexF) ==False:\n",
    "         SEX=1\n",
    "   \n",
    "         \n",
    "    reco=[PD,RD,FGR,TEMP,CM,CD,PU,LL,FWB,JMD,BT,AGE,HD,SEX]\n",
    "    append_row(reco)\n",
    "    "
   ]
  },
  {
   "cell_type": "markdown",
   "metadata": {},
   "source": [
    "### all the personal factors that we need to determine and classify the risk, are collected through the phone application of our system (Siren), and saved in firebase database, so we connect to the database to get all the data "
   ]
  },
  {
   "cell_type": "code",
   "execution_count": 13,
   "metadata": {},
   "outputs": [],
   "source": [
    "firebase = firebase.FirebaseApplication('https://coastal-arcana-274814.firebaseio.com/', None)\n"
   ]
  },
  {
   "cell_type": "markdown",
   "metadata": {},
   "source": [
    "#### reading the datas"
   ]
  },
  {
   "cell_type": "code",
   "execution_count": 81,
   "metadata": {},
   "outputs": [
    {
     "name": "stdout",
     "output_type": "stream",
     "text": [
      "{'-M5OfmXb0lncHysI-cVN': {'Age': '22', 'Bloodtype': 'A+', 'Female': True, 'Heart_d': True, 'KnowTheBuilding': True, 'Male': False, 'Muscle_d': False, 'Password': '123', 'Physical_d': True, 'Resp_d': False, 'Username': 'lama', 'Weight': 'Obese'}, '-M5Og6vfEJ8PmrRZD41w': {'Age': '70', 'Bloodtype': 'B+', 'Female': True, 'Heart_d': True, 'KnowTheBuilding': True, 'Male': False, 'Muscle_d': False, 'Password': '888', 'Physical_d': True, 'Resp_d': False, 'Username': 'jana', 'Weight': 'Obese'}, '-M5OgK5-Tg93cGdW_fGW': {'Age': '45', 'Bloodtype': 'O-', 'Female': False, 'Heart_d': False, 'KnowTheBuilding': True, 'Male': True, 'Muscle_d': False, 'Password': '555', 'Physical_d': False, 'Resp_d': True, 'Username': 'khal', 'Weight': 'Athlete'}}\n"
     ]
    }
   ],
   "source": [
    "result = firebase.get('/Persons/',None)\n",
    "print(result)"
   ]
  },
  {
   "cell_type": "markdown",
   "metadata": {},
   "source": [
    "#### after reading the data and take what we consider and ignore the rest, we pass the values to the previous function that gather and generate, classify, and writing to CSV  "
   ]
  },
  {
   "cell_type": "code",
   "execution_count": 462,
   "metadata": {},
   "outputs": [],
   "source": [
    "for res in result.items():\n",
    "\n",
    "    gen_FullRecored(res[1]['Physical_d'],res[1]['Resp_d'],res[1]['KnowTheBuilding'],res[1]['Muscle_d'],res[1]['Weight'],int(res[1]['Age']),res[1]['Heart_d'],res[1]['Female'])  "
   ]
  },
  {
   "cell_type": "markdown",
   "metadata": {},
   "source": [
    "#### now let's see the file, where all the user's values are stored in alongside with generated environmental data"
   ]
  },
  {
   "cell_type": "code",
   "execution_count": 463,
   "metadata": {},
   "outputs": [],
   "source": [
    "newdata=pd.read_csv(\"create_reco.csv\")"
   ]
  },
  {
   "cell_type": "code",
   "execution_count": 464,
   "metadata": {},
   "outputs": [
    {
     "data": {
      "text/html": [
       "<div>\n",
       "<style scoped>\n",
       "    .dataframe tbody tr th:only-of-type {\n",
       "        vertical-align: middle;\n",
       "    }\n",
       "\n",
       "    .dataframe tbody tr th {\n",
       "        vertical-align: top;\n",
       "    }\n",
       "\n",
       "    .dataframe thead th {\n",
       "        text-align: right;\n",
       "    }\n",
       "</style>\n",
       "<table border=\"1\" class=\"dataframe\">\n",
       "  <thead>\n",
       "    <tr style=\"text-align: right;\">\n",
       "      <th></th>\n",
       "      <th>Physical Disability</th>\n",
       "      <th>Respiratory Disease</th>\n",
       "      <th>Fire Growth Rate</th>\n",
       "      <th>Temperature</th>\n",
       "      <th>Carbon monoxide concentration</th>\n",
       "      <th>Carbon Dioxide concentration</th>\n",
       "      <th>Population</th>\n",
       "      <th>Link Length</th>\n",
       "      <th>Familiarity with Building Geometry</th>\n",
       "      <th>Joint -Muscle Disease</th>\n",
       "      <th>Body Type</th>\n",
       "      <th>Age</th>\n",
       "      <th>Heart Disease</th>\n",
       "      <th>Sex</th>\n",
       "    </tr>\n",
       "  </thead>\n",
       "  <tbody>\n",
       "    <tr>\n",
       "      <th>count</th>\n",
       "      <td>18.000000</td>\n",
       "      <td>18.000000</td>\n",
       "      <td>18.000000</td>\n",
       "      <td>18.000000</td>\n",
       "      <td>18.000000</td>\n",
       "      <td>18.000000</td>\n",
       "      <td>18.000000</td>\n",
       "      <td>18.000000</td>\n",
       "      <td>18.0</td>\n",
       "      <td>18.0</td>\n",
       "      <td>18.000000</td>\n",
       "      <td>18.000000</td>\n",
       "      <td>18.000000</td>\n",
       "      <td>18.000000</td>\n",
       "    </tr>\n",
       "    <tr>\n",
       "      <th>mean</th>\n",
       "      <td>1.666667</td>\n",
       "      <td>1.333333</td>\n",
       "      <td>3.277778</td>\n",
       "      <td>2.833333</td>\n",
       "      <td>3.722222</td>\n",
       "      <td>2.944444</td>\n",
       "      <td>2.388889</td>\n",
       "      <td>2.055556</td>\n",
       "      <td>1.0</td>\n",
       "      <td>1.0</td>\n",
       "      <td>2.333333</td>\n",
       "      <td>2.000000</td>\n",
       "      <td>1.666667</td>\n",
       "      <td>1.666667</td>\n",
       "    </tr>\n",
       "    <tr>\n",
       "      <th>std</th>\n",
       "      <td>0.485071</td>\n",
       "      <td>0.485071</td>\n",
       "      <td>0.669113</td>\n",
       "      <td>1.150447</td>\n",
       "      <td>0.669113</td>\n",
       "      <td>0.235702</td>\n",
       "      <td>0.978528</td>\n",
       "      <td>0.872604</td>\n",
       "      <td>0.0</td>\n",
       "      <td>0.0</td>\n",
       "      <td>0.970143</td>\n",
       "      <td>0.840168</td>\n",
       "      <td>0.485071</td>\n",
       "      <td>0.485071</td>\n",
       "    </tr>\n",
       "    <tr>\n",
       "      <th>min</th>\n",
       "      <td>1.000000</td>\n",
       "      <td>1.000000</td>\n",
       "      <td>2.000000</td>\n",
       "      <td>1.000000</td>\n",
       "      <td>3.000000</td>\n",
       "      <td>2.000000</td>\n",
       "      <td>1.000000</td>\n",
       "      <td>1.000000</td>\n",
       "      <td>1.0</td>\n",
       "      <td>1.0</td>\n",
       "      <td>1.000000</td>\n",
       "      <td>1.000000</td>\n",
       "      <td>1.000000</td>\n",
       "      <td>1.000000</td>\n",
       "    </tr>\n",
       "    <tr>\n",
       "      <th>25%</th>\n",
       "      <td>1.000000</td>\n",
       "      <td>1.000000</td>\n",
       "      <td>3.000000</td>\n",
       "      <td>2.250000</td>\n",
       "      <td>3.000000</td>\n",
       "      <td>3.000000</td>\n",
       "      <td>2.000000</td>\n",
       "      <td>1.000000</td>\n",
       "      <td>1.0</td>\n",
       "      <td>1.0</td>\n",
       "      <td>1.000000</td>\n",
       "      <td>1.000000</td>\n",
       "      <td>1.000000</td>\n",
       "      <td>1.000000</td>\n",
       "    </tr>\n",
       "    <tr>\n",
       "      <th>50%</th>\n",
       "      <td>2.000000</td>\n",
       "      <td>1.000000</td>\n",
       "      <td>3.000000</td>\n",
       "      <td>3.000000</td>\n",
       "      <td>4.000000</td>\n",
       "      <td>3.000000</td>\n",
       "      <td>2.500000</td>\n",
       "      <td>2.000000</td>\n",
       "      <td>1.0</td>\n",
       "      <td>1.0</td>\n",
       "      <td>3.000000</td>\n",
       "      <td>2.000000</td>\n",
       "      <td>2.000000</td>\n",
       "      <td>2.000000</td>\n",
       "    </tr>\n",
       "    <tr>\n",
       "      <th>75%</th>\n",
       "      <td>2.000000</td>\n",
       "      <td>2.000000</td>\n",
       "      <td>4.000000</td>\n",
       "      <td>4.000000</td>\n",
       "      <td>4.000000</td>\n",
       "      <td>3.000000</td>\n",
       "      <td>3.000000</td>\n",
       "      <td>3.000000</td>\n",
       "      <td>1.0</td>\n",
       "      <td>1.0</td>\n",
       "      <td>3.000000</td>\n",
       "      <td>3.000000</td>\n",
       "      <td>2.000000</td>\n",
       "      <td>2.000000</td>\n",
       "    </tr>\n",
       "    <tr>\n",
       "      <th>max</th>\n",
       "      <td>2.000000</td>\n",
       "      <td>2.000000</td>\n",
       "      <td>4.000000</td>\n",
       "      <td>4.000000</td>\n",
       "      <td>5.000000</td>\n",
       "      <td>3.000000</td>\n",
       "      <td>4.000000</td>\n",
       "      <td>3.000000</td>\n",
       "      <td>1.0</td>\n",
       "      <td>1.0</td>\n",
       "      <td>3.000000</td>\n",
       "      <td>3.000000</td>\n",
       "      <td>2.000000</td>\n",
       "      <td>2.000000</td>\n",
       "    </tr>\n",
       "  </tbody>\n",
       "</table>\n",
       "</div>"
      ],
      "text/plain": [
       "       Physical Disability  Respiratory Disease  Fire Growth Rate  \\\n",
       "count            18.000000            18.000000         18.000000   \n",
       "mean              1.666667             1.333333          3.277778   \n",
       "std               0.485071             0.485071          0.669113   \n",
       "min               1.000000             1.000000          2.000000   \n",
       "25%               1.000000             1.000000          3.000000   \n",
       "50%               2.000000             1.000000          3.000000   \n",
       "75%               2.000000             2.000000          4.000000   \n",
       "max               2.000000             2.000000          4.000000   \n",
       "\n",
       "       Temperature  Carbon monoxide concentration  \\\n",
       "count    18.000000                      18.000000   \n",
       "mean      2.833333                       3.722222   \n",
       "std       1.150447                       0.669113   \n",
       "min       1.000000                       3.000000   \n",
       "25%       2.250000                       3.000000   \n",
       "50%       3.000000                       4.000000   \n",
       "75%       4.000000                       4.000000   \n",
       "max       4.000000                       5.000000   \n",
       "\n",
       "       Carbon Dioxide concentration   Population  Link Length  \\\n",
       "count                      18.000000   18.000000    18.000000   \n",
       "mean                        2.944444    2.388889     2.055556   \n",
       "std                         0.235702    0.978528     0.872604   \n",
       "min                         2.000000    1.000000     1.000000   \n",
       "25%                         3.000000    2.000000     1.000000   \n",
       "50%                         3.000000    2.500000     2.000000   \n",
       "75%                         3.000000    3.000000     3.000000   \n",
       "max                         3.000000    4.000000     3.000000   \n",
       "\n",
       "       Familiarity with Building Geometry  Joint -Muscle Disease   Body Type  \\\n",
       "count                                18.0                    18.0  18.000000   \n",
       "mean                                  1.0                     1.0   2.333333   \n",
       "std                                   0.0                     0.0   0.970143   \n",
       "min                                   1.0                     1.0   1.000000   \n",
       "25%                                   1.0                     1.0   1.000000   \n",
       "50%                                   1.0                     1.0   3.000000   \n",
       "75%                                   1.0                     1.0   3.000000   \n",
       "max                                   1.0                     1.0   3.000000   \n",
       "\n",
       "             Age  Heart Disease       Sex   \n",
       "count  18.000000      18.000000  18.000000  \n",
       "mean    2.000000       1.666667   1.666667  \n",
       "std     0.840168       0.485071   0.485071  \n",
       "min     1.000000       1.000000   1.000000  \n",
       "25%     1.000000       1.000000   1.000000  \n",
       "50%     2.000000       2.000000   2.000000  \n",
       "75%     3.000000       2.000000   2.000000  \n",
       "max     3.000000       2.000000   2.000000  "
      ]
     },
     "execution_count": 464,
     "metadata": {},
     "output_type": "execute_result"
    }
   ],
   "source": [
    "newdata.describe()"
   ]
  },
  {
   "cell_type": "code",
   "execution_count": 465,
   "metadata": {},
   "outputs": [
    {
     "data": {
      "text/html": [
       "<div>\n",
       "<style scoped>\n",
       "    .dataframe tbody tr th:only-of-type {\n",
       "        vertical-align: middle;\n",
       "    }\n",
       "\n",
       "    .dataframe tbody tr th {\n",
       "        vertical-align: top;\n",
       "    }\n",
       "\n",
       "    .dataframe thead th {\n",
       "        text-align: right;\n",
       "    }\n",
       "</style>\n",
       "<table border=\"1\" class=\"dataframe\">\n",
       "  <thead>\n",
       "    <tr style=\"text-align: right;\">\n",
       "      <th></th>\n",
       "      <th>Physical Disability</th>\n",
       "      <th>Respiratory Disease</th>\n",
       "      <th>Fire Growth Rate</th>\n",
       "      <th>Temperature</th>\n",
       "      <th>Carbon monoxide concentration</th>\n",
       "      <th>Carbon Dioxide concentration</th>\n",
       "      <th>Population</th>\n",
       "      <th>Link Length</th>\n",
       "      <th>Familiarity with Building Geometry</th>\n",
       "      <th>Joint -Muscle Disease</th>\n",
       "      <th>Body Type</th>\n",
       "      <th>Age</th>\n",
       "      <th>Heart Disease</th>\n",
       "      <th>Sex</th>\n",
       "    </tr>\n",
       "  </thead>\n",
       "  <tbody>\n",
       "    <tr>\n",
       "      <th>0</th>\n",
       "      <td>2</td>\n",
       "      <td>1</td>\n",
       "      <td>3</td>\n",
       "      <td>4</td>\n",
       "      <td>3</td>\n",
       "      <td>3</td>\n",
       "      <td>4</td>\n",
       "      <td>3</td>\n",
       "      <td>1</td>\n",
       "      <td>1</td>\n",
       "      <td>3</td>\n",
       "      <td>1</td>\n",
       "      <td>2</td>\n",
       "      <td>2</td>\n",
       "    </tr>\n",
       "    <tr>\n",
       "      <th>1</th>\n",
       "      <td>2</td>\n",
       "      <td>1</td>\n",
       "      <td>4</td>\n",
       "      <td>3</td>\n",
       "      <td>3</td>\n",
       "      <td>3</td>\n",
       "      <td>2</td>\n",
       "      <td>1</td>\n",
       "      <td>1</td>\n",
       "      <td>1</td>\n",
       "      <td>3</td>\n",
       "      <td>3</td>\n",
       "      <td>2</td>\n",
       "      <td>2</td>\n",
       "    </tr>\n",
       "    <tr>\n",
       "      <th>2</th>\n",
       "      <td>1</td>\n",
       "      <td>2</td>\n",
       "      <td>3</td>\n",
       "      <td>2</td>\n",
       "      <td>4</td>\n",
       "      <td>3</td>\n",
       "      <td>1</td>\n",
       "      <td>2</td>\n",
       "      <td>1</td>\n",
       "      <td>1</td>\n",
       "      <td>1</td>\n",
       "      <td>2</td>\n",
       "      <td>1</td>\n",
       "      <td>1</td>\n",
       "    </tr>\n",
       "    <tr>\n",
       "      <th>3</th>\n",
       "      <td>2</td>\n",
       "      <td>1</td>\n",
       "      <td>3</td>\n",
       "      <td>3</td>\n",
       "      <td>3</td>\n",
       "      <td>3</td>\n",
       "      <td>2</td>\n",
       "      <td>1</td>\n",
       "      <td>1</td>\n",
       "      <td>1</td>\n",
       "      <td>3</td>\n",
       "      <td>1</td>\n",
       "      <td>2</td>\n",
       "      <td>2</td>\n",
       "    </tr>\n",
       "    <tr>\n",
       "      <th>4</th>\n",
       "      <td>2</td>\n",
       "      <td>1</td>\n",
       "      <td>3</td>\n",
       "      <td>1</td>\n",
       "      <td>3</td>\n",
       "      <td>3</td>\n",
       "      <td>3</td>\n",
       "      <td>1</td>\n",
       "      <td>1</td>\n",
       "      <td>1</td>\n",
       "      <td>3</td>\n",
       "      <td>3</td>\n",
       "      <td>2</td>\n",
       "      <td>2</td>\n",
       "    </tr>\n",
       "  </tbody>\n",
       "</table>\n",
       "</div>"
      ],
      "text/plain": [
       "   Physical Disability  Respiratory Disease  Fire Growth Rate  Temperature  \\\n",
       "0                    2                    1                 3            4   \n",
       "1                    2                    1                 4            3   \n",
       "2                    1                    2                 3            2   \n",
       "3                    2                    1                 3            3   \n",
       "4                    2                    1                 3            1   \n",
       "\n",
       "   Carbon monoxide concentration  Carbon Dioxide concentration   Population  \\\n",
       "0                              3                              3           4   \n",
       "1                              3                              3           2   \n",
       "2                              4                              3           1   \n",
       "3                              3                              3           2   \n",
       "4                              3                              3           3   \n",
       "\n",
       "   Link Length  Familiarity with Building Geometry  Joint -Muscle Disease   \\\n",
       "0            3                                   1                       1   \n",
       "1            1                                   1                       1   \n",
       "2            2                                   1                       1   \n",
       "3            1                                   1                       1   \n",
       "4            1                                   1                       1   \n",
       "\n",
       "   Body Type  Age  Heart Disease  Sex   \n",
       "0          3    1              2     2  \n",
       "1          3    3              2     2  \n",
       "2          1    2              1     1  \n",
       "3          3    1              2     2  \n",
       "4          3    3              2     2  "
      ]
     },
     "execution_count": 465,
     "metadata": {},
     "output_type": "execute_result"
    }
   ],
   "source": [
    "newdata.head()"
   ]
  },
  {
   "cell_type": "markdown",
   "metadata": {},
   "source": [
    "##### shape of the collected data where you can see is 14 features, the total risk is not predicted yet "
   ]
  },
  {
   "cell_type": "code",
   "execution_count": 479,
   "metadata": {},
   "outputs": [
    {
     "name": "stdout",
     "output_type": "stream",
     "text": [
      "(18, 14)\n"
     ]
    }
   ],
   "source": [
    "print(newdatainsert.shape)"
   ]
  },
  {
   "cell_type": "markdown",
   "metadata": {},
   "source": [
    "##### just in case some of the values are missing we fill the nan values with the mean of the dataset"
   ]
  },
  {
   "cell_type": "code",
   "execution_count": 467,
   "metadata": {},
   "outputs": [
    {
     "data": {
      "text/html": [
       "<div>\n",
       "<style scoped>\n",
       "    .dataframe tbody tr th:only-of-type {\n",
       "        vertical-align: middle;\n",
       "    }\n",
       "\n",
       "    .dataframe tbody tr th {\n",
       "        vertical-align: top;\n",
       "    }\n",
       "\n",
       "    .dataframe thead th {\n",
       "        text-align: right;\n",
       "    }\n",
       "</style>\n",
       "<table border=\"1\" class=\"dataframe\">\n",
       "  <thead>\n",
       "    <tr style=\"text-align: right;\">\n",
       "      <th></th>\n",
       "      <th>Physical Disability</th>\n",
       "      <th>Respiratory Disease</th>\n",
       "      <th>Fire Growth Rate</th>\n",
       "      <th>Temperature</th>\n",
       "      <th>Carbon monoxide concentration</th>\n",
       "      <th>Carbon Dioxide concentration</th>\n",
       "      <th>Population</th>\n",
       "      <th>Link Length</th>\n",
       "      <th>Familiarity with Building Geometry</th>\n",
       "      <th>Joint -Muscle Disease</th>\n",
       "      <th>Body Type</th>\n",
       "      <th>Age</th>\n",
       "      <th>Heart Disease</th>\n",
       "      <th>Sex</th>\n",
       "    </tr>\n",
       "  </thead>\n",
       "  <tbody>\n",
       "    <tr>\n",
       "      <th>0</th>\n",
       "      <td>2</td>\n",
       "      <td>1</td>\n",
       "      <td>3</td>\n",
       "      <td>4</td>\n",
       "      <td>3</td>\n",
       "      <td>3</td>\n",
       "      <td>4</td>\n",
       "      <td>3</td>\n",
       "      <td>1</td>\n",
       "      <td>1</td>\n",
       "      <td>3</td>\n",
       "      <td>1</td>\n",
       "      <td>2</td>\n",
       "      <td>2</td>\n",
       "    </tr>\n",
       "    <tr>\n",
       "      <th>1</th>\n",
       "      <td>2</td>\n",
       "      <td>1</td>\n",
       "      <td>4</td>\n",
       "      <td>3</td>\n",
       "      <td>3</td>\n",
       "      <td>3</td>\n",
       "      <td>2</td>\n",
       "      <td>1</td>\n",
       "      <td>1</td>\n",
       "      <td>1</td>\n",
       "      <td>3</td>\n",
       "      <td>3</td>\n",
       "      <td>2</td>\n",
       "      <td>2</td>\n",
       "    </tr>\n",
       "    <tr>\n",
       "      <th>2</th>\n",
       "      <td>1</td>\n",
       "      <td>2</td>\n",
       "      <td>3</td>\n",
       "      <td>2</td>\n",
       "      <td>4</td>\n",
       "      <td>3</td>\n",
       "      <td>1</td>\n",
       "      <td>2</td>\n",
       "      <td>1</td>\n",
       "      <td>1</td>\n",
       "      <td>1</td>\n",
       "      <td>2</td>\n",
       "      <td>1</td>\n",
       "      <td>1</td>\n",
       "    </tr>\n",
       "    <tr>\n",
       "      <th>3</th>\n",
       "      <td>2</td>\n",
       "      <td>1</td>\n",
       "      <td>3</td>\n",
       "      <td>3</td>\n",
       "      <td>3</td>\n",
       "      <td>3</td>\n",
       "      <td>2</td>\n",
       "      <td>1</td>\n",
       "      <td>1</td>\n",
       "      <td>1</td>\n",
       "      <td>3</td>\n",
       "      <td>1</td>\n",
       "      <td>2</td>\n",
       "      <td>2</td>\n",
       "    </tr>\n",
       "    <tr>\n",
       "      <th>4</th>\n",
       "      <td>2</td>\n",
       "      <td>1</td>\n",
       "      <td>3</td>\n",
       "      <td>1</td>\n",
       "      <td>3</td>\n",
       "      <td>3</td>\n",
       "      <td>3</td>\n",
       "      <td>1</td>\n",
       "      <td>1</td>\n",
       "      <td>1</td>\n",
       "      <td>3</td>\n",
       "      <td>3</td>\n",
       "      <td>2</td>\n",
       "      <td>2</td>\n",
       "    </tr>\n",
       "    <tr>\n",
       "      <th>5</th>\n",
       "      <td>1</td>\n",
       "      <td>2</td>\n",
       "      <td>4</td>\n",
       "      <td>4</td>\n",
       "      <td>3</td>\n",
       "      <td>3</td>\n",
       "      <td>2</td>\n",
       "      <td>2</td>\n",
       "      <td>1</td>\n",
       "      <td>1</td>\n",
       "      <td>1</td>\n",
       "      <td>2</td>\n",
       "      <td>1</td>\n",
       "      <td>1</td>\n",
       "    </tr>\n",
       "    <tr>\n",
       "      <th>6</th>\n",
       "      <td>2</td>\n",
       "      <td>1</td>\n",
       "      <td>3</td>\n",
       "      <td>1</td>\n",
       "      <td>4</td>\n",
       "      <td>3</td>\n",
       "      <td>3</td>\n",
       "      <td>2</td>\n",
       "      <td>1</td>\n",
       "      <td>1</td>\n",
       "      <td>3</td>\n",
       "      <td>1</td>\n",
       "      <td>2</td>\n",
       "      <td>2</td>\n",
       "    </tr>\n",
       "    <tr>\n",
       "      <th>7</th>\n",
       "      <td>2</td>\n",
       "      <td>1</td>\n",
       "      <td>4</td>\n",
       "      <td>3</td>\n",
       "      <td>4</td>\n",
       "      <td>3</td>\n",
       "      <td>1</td>\n",
       "      <td>1</td>\n",
       "      <td>1</td>\n",
       "      <td>1</td>\n",
       "      <td>3</td>\n",
       "      <td>3</td>\n",
       "      <td>2</td>\n",
       "      <td>2</td>\n",
       "    </tr>\n",
       "    <tr>\n",
       "      <th>8</th>\n",
       "      <td>1</td>\n",
       "      <td>2</td>\n",
       "      <td>3</td>\n",
       "      <td>3</td>\n",
       "      <td>4</td>\n",
       "      <td>3</td>\n",
       "      <td>2</td>\n",
       "      <td>2</td>\n",
       "      <td>1</td>\n",
       "      <td>1</td>\n",
       "      <td>1</td>\n",
       "      <td>2</td>\n",
       "      <td>1</td>\n",
       "      <td>1</td>\n",
       "    </tr>\n",
       "    <tr>\n",
       "      <th>9</th>\n",
       "      <td>2</td>\n",
       "      <td>1</td>\n",
       "      <td>3</td>\n",
       "      <td>1</td>\n",
       "      <td>4</td>\n",
       "      <td>2</td>\n",
       "      <td>3</td>\n",
       "      <td>3</td>\n",
       "      <td>1</td>\n",
       "      <td>1</td>\n",
       "      <td>3</td>\n",
       "      <td>1</td>\n",
       "      <td>2</td>\n",
       "      <td>2</td>\n",
       "    </tr>\n",
       "    <tr>\n",
       "      <th>10</th>\n",
       "      <td>2</td>\n",
       "      <td>1</td>\n",
       "      <td>4</td>\n",
       "      <td>3</td>\n",
       "      <td>4</td>\n",
       "      <td>3</td>\n",
       "      <td>3</td>\n",
       "      <td>1</td>\n",
       "      <td>1</td>\n",
       "      <td>1</td>\n",
       "      <td>3</td>\n",
       "      <td>3</td>\n",
       "      <td>2</td>\n",
       "      <td>2</td>\n",
       "    </tr>\n",
       "    <tr>\n",
       "      <th>11</th>\n",
       "      <td>1</td>\n",
       "      <td>2</td>\n",
       "      <td>2</td>\n",
       "      <td>4</td>\n",
       "      <td>3</td>\n",
       "      <td>3</td>\n",
       "      <td>3</td>\n",
       "      <td>3</td>\n",
       "      <td>1</td>\n",
       "      <td>1</td>\n",
       "      <td>1</td>\n",
       "      <td>2</td>\n",
       "      <td>1</td>\n",
       "      <td>1</td>\n",
       "    </tr>\n",
       "    <tr>\n",
       "      <th>12</th>\n",
       "      <td>2</td>\n",
       "      <td>1</td>\n",
       "      <td>4</td>\n",
       "      <td>1</td>\n",
       "      <td>5</td>\n",
       "      <td>3</td>\n",
       "      <td>4</td>\n",
       "      <td>3</td>\n",
       "      <td>1</td>\n",
       "      <td>1</td>\n",
       "      <td>3</td>\n",
       "      <td>1</td>\n",
       "      <td>2</td>\n",
       "      <td>2</td>\n",
       "    </tr>\n",
       "    <tr>\n",
       "      <th>13</th>\n",
       "      <td>2</td>\n",
       "      <td>1</td>\n",
       "      <td>3</td>\n",
       "      <td>3</td>\n",
       "      <td>4</td>\n",
       "      <td>3</td>\n",
       "      <td>3</td>\n",
       "      <td>3</td>\n",
       "      <td>1</td>\n",
       "      <td>1</td>\n",
       "      <td>3</td>\n",
       "      <td>3</td>\n",
       "      <td>2</td>\n",
       "      <td>2</td>\n",
       "    </tr>\n",
       "    <tr>\n",
       "      <th>14</th>\n",
       "      <td>1</td>\n",
       "      <td>2</td>\n",
       "      <td>4</td>\n",
       "      <td>4</td>\n",
       "      <td>5</td>\n",
       "      <td>3</td>\n",
       "      <td>1</td>\n",
       "      <td>1</td>\n",
       "      <td>1</td>\n",
       "      <td>1</td>\n",
       "      <td>1</td>\n",
       "      <td>2</td>\n",
       "      <td>1</td>\n",
       "      <td>1</td>\n",
       "    </tr>\n",
       "    <tr>\n",
       "      <th>15</th>\n",
       "      <td>2</td>\n",
       "      <td>1</td>\n",
       "      <td>4</td>\n",
       "      <td>3</td>\n",
       "      <td>4</td>\n",
       "      <td>3</td>\n",
       "      <td>1</td>\n",
       "      <td>3</td>\n",
       "      <td>1</td>\n",
       "      <td>1</td>\n",
       "      <td>3</td>\n",
       "      <td>1</td>\n",
       "      <td>2</td>\n",
       "      <td>2</td>\n",
       "    </tr>\n",
       "    <tr>\n",
       "      <th>16</th>\n",
       "      <td>2</td>\n",
       "      <td>1</td>\n",
       "      <td>2</td>\n",
       "      <td>4</td>\n",
       "      <td>3</td>\n",
       "      <td>3</td>\n",
       "      <td>2</td>\n",
       "      <td>3</td>\n",
       "      <td>1</td>\n",
       "      <td>1</td>\n",
       "      <td>3</td>\n",
       "      <td>3</td>\n",
       "      <td>2</td>\n",
       "      <td>2</td>\n",
       "    </tr>\n",
       "    <tr>\n",
       "      <th>17</th>\n",
       "      <td>1</td>\n",
       "      <td>2</td>\n",
       "      <td>3</td>\n",
       "      <td>4</td>\n",
       "      <td>4</td>\n",
       "      <td>3</td>\n",
       "      <td>3</td>\n",
       "      <td>2</td>\n",
       "      <td>1</td>\n",
       "      <td>1</td>\n",
       "      <td>1</td>\n",
       "      <td>2</td>\n",
       "      <td>1</td>\n",
       "      <td>1</td>\n",
       "    </tr>\n",
       "  </tbody>\n",
       "</table>\n",
       "</div>"
      ],
      "text/plain": [
       "    Physical Disability  Respiratory Disease  Fire Growth Rate  Temperature  \\\n",
       "0                     2                    1                 3            4   \n",
       "1                     2                    1                 4            3   \n",
       "2                     1                    2                 3            2   \n",
       "3                     2                    1                 3            3   \n",
       "4                     2                    1                 3            1   \n",
       "5                     1                    2                 4            4   \n",
       "6                     2                    1                 3            1   \n",
       "7                     2                    1                 4            3   \n",
       "8                     1                    2                 3            3   \n",
       "9                     2                    1                 3            1   \n",
       "10                    2                    1                 4            3   \n",
       "11                    1                    2                 2            4   \n",
       "12                    2                    1                 4            1   \n",
       "13                    2                    1                 3            3   \n",
       "14                    1                    2                 4            4   \n",
       "15                    2                    1                 4            3   \n",
       "16                    2                    1                 2            4   \n",
       "17                    1                    2                 3            4   \n",
       "\n",
       "    Carbon monoxide concentration  Carbon Dioxide concentration   Population  \\\n",
       "0                               3                              3           4   \n",
       "1                               3                              3           2   \n",
       "2                               4                              3           1   \n",
       "3                               3                              3           2   \n",
       "4                               3                              3           3   \n",
       "5                               3                              3           2   \n",
       "6                               4                              3           3   \n",
       "7                               4                              3           1   \n",
       "8                               4                              3           2   \n",
       "9                               4                              2           3   \n",
       "10                              4                              3           3   \n",
       "11                              3                              3           3   \n",
       "12                              5                              3           4   \n",
       "13                              4                              3           3   \n",
       "14                              5                              3           1   \n",
       "15                              4                              3           1   \n",
       "16                              3                              3           2   \n",
       "17                              4                              3           3   \n",
       "\n",
       "    Link Length  Familiarity with Building Geometry  Joint -Muscle Disease   \\\n",
       "0             3                                   1                       1   \n",
       "1             1                                   1                       1   \n",
       "2             2                                   1                       1   \n",
       "3             1                                   1                       1   \n",
       "4             1                                   1                       1   \n",
       "5             2                                   1                       1   \n",
       "6             2                                   1                       1   \n",
       "7             1                                   1                       1   \n",
       "8             2                                   1                       1   \n",
       "9             3                                   1                       1   \n",
       "10            1                                   1                       1   \n",
       "11            3                                   1                       1   \n",
       "12            3                                   1                       1   \n",
       "13            3                                   1                       1   \n",
       "14            1                                   1                       1   \n",
       "15            3                                   1                       1   \n",
       "16            3                                   1                       1   \n",
       "17            2                                   1                       1   \n",
       "\n",
       "    Body Type  Age  Heart Disease  Sex   \n",
       "0           3    1              2     2  \n",
       "1           3    3              2     2  \n",
       "2           1    2              1     1  \n",
       "3           3    1              2     2  \n",
       "4           3    3              2     2  \n",
       "5           1    2              1     1  \n",
       "6           3    1              2     2  \n",
       "7           3    3              2     2  \n",
       "8           1    2              1     1  \n",
       "9           3    1              2     2  \n",
       "10          3    3              2     2  \n",
       "11          1    2              1     1  \n",
       "12          3    1              2     2  \n",
       "13          3    3              2     2  \n",
       "14          1    2              1     1  \n",
       "15          3    1              2     2  \n",
       "16          3    3              2     2  \n",
       "17          1    2              1     1  "
      ]
     },
     "execution_count": 467,
     "metadata": {},
     "output_type": "execute_result"
    }
   ],
   "source": [
    "newdata.fillna(newdata.mean())\n"
   ]
  },
  {
   "cell_type": "code",
   "execution_count": 468,
   "metadata": {},
   "outputs": [
    {
     "data": {
      "text/html": [
       "<div>\n",
       "<style scoped>\n",
       "    .dataframe tbody tr th:only-of-type {\n",
       "        vertical-align: middle;\n",
       "    }\n",
       "\n",
       "    .dataframe tbody tr th {\n",
       "        vertical-align: top;\n",
       "    }\n",
       "\n",
       "    .dataframe thead th {\n",
       "        text-align: right;\n",
       "    }\n",
       "</style>\n",
       "<table border=\"1\" class=\"dataframe\">\n",
       "  <thead>\n",
       "    <tr style=\"text-align: right;\">\n",
       "      <th></th>\n",
       "      <th>Physical Disability</th>\n",
       "      <th>Respiratory Disease</th>\n",
       "      <th>Fire Growth Rate</th>\n",
       "      <th>Temperature</th>\n",
       "      <th>Carbon monoxide concentration</th>\n",
       "      <th>Carbon Dioxide concentration</th>\n",
       "      <th>Population</th>\n",
       "      <th>Link Length</th>\n",
       "      <th>Familiarity with Building Geometry</th>\n",
       "      <th>Joint -Muscle Disease</th>\n",
       "      <th>Body Type</th>\n",
       "      <th>Age</th>\n",
       "      <th>Heart Disease</th>\n",
       "      <th>Sex</th>\n",
       "    </tr>\n",
       "  </thead>\n",
       "  <tbody>\n",
       "    <tr>\n",
       "      <th>0</th>\n",
       "      <td>2</td>\n",
       "      <td>1</td>\n",
       "      <td>3</td>\n",
       "      <td>4</td>\n",
       "      <td>3</td>\n",
       "      <td>3</td>\n",
       "      <td>4</td>\n",
       "      <td>3</td>\n",
       "      <td>1</td>\n",
       "      <td>1</td>\n",
       "      <td>3</td>\n",
       "      <td>1</td>\n",
       "      <td>2</td>\n",
       "      <td>2</td>\n",
       "    </tr>\n",
       "    <tr>\n",
       "      <th>1</th>\n",
       "      <td>2</td>\n",
       "      <td>1</td>\n",
       "      <td>4</td>\n",
       "      <td>3</td>\n",
       "      <td>3</td>\n",
       "      <td>3</td>\n",
       "      <td>2</td>\n",
       "      <td>1</td>\n",
       "      <td>1</td>\n",
       "      <td>1</td>\n",
       "      <td>3</td>\n",
       "      <td>3</td>\n",
       "      <td>2</td>\n",
       "      <td>2</td>\n",
       "    </tr>\n",
       "    <tr>\n",
       "      <th>2</th>\n",
       "      <td>1</td>\n",
       "      <td>2</td>\n",
       "      <td>3</td>\n",
       "      <td>2</td>\n",
       "      <td>4</td>\n",
       "      <td>3</td>\n",
       "      <td>1</td>\n",
       "      <td>2</td>\n",
       "      <td>1</td>\n",
       "      <td>1</td>\n",
       "      <td>1</td>\n",
       "      <td>2</td>\n",
       "      <td>1</td>\n",
       "      <td>1</td>\n",
       "    </tr>\n",
       "    <tr>\n",
       "      <th>3</th>\n",
       "      <td>2</td>\n",
       "      <td>1</td>\n",
       "      <td>3</td>\n",
       "      <td>3</td>\n",
       "      <td>3</td>\n",
       "      <td>3</td>\n",
       "      <td>2</td>\n",
       "      <td>1</td>\n",
       "      <td>1</td>\n",
       "      <td>1</td>\n",
       "      <td>3</td>\n",
       "      <td>1</td>\n",
       "      <td>2</td>\n",
       "      <td>2</td>\n",
       "    </tr>\n",
       "    <tr>\n",
       "      <th>4</th>\n",
       "      <td>2</td>\n",
       "      <td>1</td>\n",
       "      <td>3</td>\n",
       "      <td>1</td>\n",
       "      <td>3</td>\n",
       "      <td>3</td>\n",
       "      <td>3</td>\n",
       "      <td>1</td>\n",
       "      <td>1</td>\n",
       "      <td>1</td>\n",
       "      <td>3</td>\n",
       "      <td>3</td>\n",
       "      <td>2</td>\n",
       "      <td>2</td>\n",
       "    </tr>\n",
       "  </tbody>\n",
       "</table>\n",
       "</div>"
      ],
      "text/plain": [
       "   Physical Disability  Respiratory Disease  Fire Growth Rate  Temperature  \\\n",
       "0                    2                    1                 3            4   \n",
       "1                    2                    1                 4            3   \n",
       "2                    1                    2                 3            2   \n",
       "3                    2                    1                 3            3   \n",
       "4                    2                    1                 3            1   \n",
       "\n",
       "   Carbon monoxide concentration  Carbon Dioxide concentration   Population  \\\n",
       "0                              3                              3           4   \n",
       "1                              3                              3           2   \n",
       "2                              4                              3           1   \n",
       "3                              3                              3           2   \n",
       "4                              3                              3           3   \n",
       "\n",
       "   Link Length  Familiarity with Building Geometry  Joint -Muscle Disease   \\\n",
       "0            3                                   1                       1   \n",
       "1            1                                   1                       1   \n",
       "2            2                                   1                       1   \n",
       "3            1                                   1                       1   \n",
       "4            1                                   1                       1   \n",
       "\n",
       "   Body Type  Age  Heart Disease  Sex   \n",
       "0          3    1              2     2  \n",
       "1          3    3              2     2  \n",
       "2          1    2              1     1  \n",
       "3          3    1              2     2  \n",
       "4          3    3              2     2  "
      ]
     },
     "execution_count": 468,
     "metadata": {},
     "output_type": "execute_result"
    }
   ],
   "source": [
    "newdata.head()"
   ]
  },
  {
   "cell_type": "markdown",
   "metadata": {},
   "source": [
    "#### using all the models to predict the risk and we can notice that the first three are the same and the accuracy of these models got 90 or more, however, we can see that the fourth model have two different risk value for the same record this model is the one who got less than 90 "
   ]
  },
  {
   "cell_type": "code",
   "execution_count": 469,
   "metadata": {},
   "outputs": [
    {
     "name": "stdout",
     "output_type": "stream",
     "text": [
      "[4 4 3 3 3 4 3 4 3 3 4 3 4 4 4 4 3 3]\n"
     ]
    }
   ],
   "source": [
    "print(mlp_firstmodel.predict(newdatainsert))"
   ]
  },
  {
   "cell_type": "code",
   "execution_count": 470,
   "metadata": {},
   "outputs": [
    {
     "name": "stdout",
     "output_type": "stream",
     "text": [
      "[4 4 3 3 3 4 3 4 3 3 4 3 4 4 4 4 3 3]\n"
     ]
    }
   ],
   "source": [
    "print(mlp_secondmodel.predict(newdatainsert))"
   ]
  },
  {
   "cell_type": "code",
   "execution_count": 471,
   "metadata": {},
   "outputs": [
    {
     "name": "stdout",
     "output_type": "stream",
     "text": [
      "[4 4 3 3 3 4 3 4 3 3 4 3 4 4 4 4 3 4]\n"
     ]
    }
   ],
   "source": [
    "print(mlp_thirdmodel.predict(newdatainsert))"
   ]
  },
  {
   "cell_type": "code",
   "execution_count": 472,
   "metadata": {},
   "outputs": [
    {
     "name": "stdout",
     "output_type": "stream",
     "text": [
      "[4 4 3 3 3 3 3 4 3 3 4 3 4 4 3 4 3 3]\n"
     ]
    }
   ],
   "source": [
    "print(mlp_fourthhdmodel.predict(newdatainsert))"
   ]
  },
  {
   "cell_type": "code",
   "execution_count": null,
   "metadata": {},
   "outputs": [],
   "source": []
  }
 ],
 "metadata": {
  "kernelspec": {
   "display_name": "Python 3",
   "language": "python",
   "name": "python3"
  },
  "language_info": {
   "codemirror_mode": {
    "name": "ipython",
    "version": 3
   },
   "file_extension": ".py",
   "mimetype": "text/x-python",
   "name": "python",
   "nbconvert_exporter": "python",
   "pygments_lexer": "ipython3",
   "version": "3.7.7"
  }
 },
 "nbformat": 4,
 "nbformat_minor": 4
}
